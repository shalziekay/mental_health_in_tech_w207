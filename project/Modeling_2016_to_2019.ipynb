{
 "cells": [
  {
   "cell_type": "markdown",
   "metadata": {
    "cell_id": "00000-7c8972bc-963b-446b-a357-271b387b0e81",
    "deepnote_cell_type": "markdown",
    "tags": []
   },
   "source": [
    "## Mental Health in Tech Surveys 2016 - 2019 \n",
    "\n",
    "### 207 Final Project\n",
    "\n",
    "#### Contributors: Anjali Unnithan, Anusha Mohan, Lavanya Vijayan, Shalini Kunapuli"
   ]
  },
  {
   "cell_type": "markdown",
   "metadata": {},
   "source": [
    "### Overview"
   ]
  },
  {
   "cell_type": "markdown",
   "metadata": {},
   "source": [
    "#### About Our Data:\n",
    "OSMI Mental Health in Tech (2016-2019) consists of yearly collected surveys that measure attitudes towards mental health in tech industry.\n",
    "\n",
    "#### Research Question: \n",
    "What features of a company or employee best determine whether or not an employee is comfortable speaking out about mental health? \n",
    "\n",
    "#### Target Variable \n",
    "How comfortable does an employee feels about discussing mental health with their supervisor?\n"
   ]
  },
  {
   "cell_type": "markdown",
   "metadata": {},
   "source": [
    "# Modeling Process"
   ]
  },
  {
   "cell_type": "code",
   "execution_count": 1,
   "metadata": {},
   "outputs": [],
   "source": [
    "import warnings\n",
    "warnings.filterwarnings('ignore')"
   ]
  },
  {
   "cell_type": "code",
   "execution_count": 2,
   "metadata": {
    "cell_id": "00002-fe0dc975-fa4f-4151-b082-28b953a85f62",
    "deepnote_cell_type": "code",
    "execution_millis": 1866,
    "execution_start": 1607106666000,
    "output_cleared": false,
    "source_hash": "6b49f03",
    "tags": []
   },
   "outputs": [
    {
     "name": "stdout",
     "output_type": "stream",
     "text": [
      "Requirement already satisfied: seaborn==0.11.0 in /opt/anaconda3/lib/python3.7/site-packages (0.11.0)\n",
      "Requirement already satisfied: numpy>=1.15 in /opt/anaconda3/lib/python3.7/site-packages (from seaborn==0.11.0) (1.17.2)\n",
      "Requirement already satisfied: scipy>=1.0 in /opt/anaconda3/lib/python3.7/site-packages (from seaborn==0.11.0) (1.4.1)\n",
      "Requirement already satisfied: matplotlib>=2.2 in /opt/anaconda3/lib/python3.7/site-packages (from seaborn==0.11.0) (3.1.1)\n",
      "Requirement already satisfied: pandas>=0.23 in /opt/anaconda3/lib/python3.7/site-packages (from seaborn==0.11.0) (0.25.1)\n",
      "Requirement already satisfied: cycler>=0.10 in /opt/anaconda3/lib/python3.7/site-packages (from matplotlib>=2.2->seaborn==0.11.0) (0.10.0)\n",
      "Requirement already satisfied: kiwisolver>=1.0.1 in /opt/anaconda3/lib/python3.7/site-packages (from matplotlib>=2.2->seaborn==0.11.0) (1.1.0)\n",
      "Requirement already satisfied: pyparsing!=2.0.4,!=2.1.2,!=2.1.6,>=2.0.1 in /opt/anaconda3/lib/python3.7/site-packages (from matplotlib>=2.2->seaborn==0.11.0) (2.4.2)\n",
      "Requirement already satisfied: python-dateutil>=2.1 in /opt/anaconda3/lib/python3.7/site-packages (from matplotlib>=2.2->seaborn==0.11.0) (2.8.0)\n",
      "Requirement already satisfied: pytz>=2017.2 in /opt/anaconda3/lib/python3.7/site-packages (from pandas>=0.23->seaborn==0.11.0) (2019.3)\n",
      "Requirement already satisfied: six in /opt/anaconda3/lib/python3.7/site-packages (from cycler>=0.10->matplotlib>=2.2->seaborn==0.11.0) (1.12.0)\n",
      "Requirement already satisfied: setuptools in /opt/anaconda3/lib/python3.7/site-packages (from kiwisolver>=1.0.1->matplotlib>=2.2->seaborn==0.11.0) (41.4.0)\n",
      "Requirement already satisfied: pydot in /opt/anaconda3/lib/python3.7/site-packages (1.2.4)\n",
      "Requirement already satisfied: pyparsing>=2.1.4 in /opt/anaconda3/lib/python3.7/site-packages (from pydot) (2.4.2)\n"
     ]
    }
   ],
   "source": [
    "!pip install seaborn==0.11.0\n",
    "!pip install pydot"
   ]
  },
  {
   "cell_type": "code",
   "execution_count": 3,
   "metadata": {
    "cell_id": "00003-c44640b5-0b60-41bb-b199-b1cd9a2686b1",
    "deepnote_cell_type": "code",
    "execution_millis": 927,
    "execution_start": 1607106674098,
    "output_cleared": false,
    "source_hash": "47925df7",
    "tags": []
   },
   "outputs": [],
   "source": [
    "import pandas as pd\n",
    "import numpy as np\n",
    "import sklearn as sk\n",
    "import matplotlib.pyplot as plt\n",
    "import seaborn as sns\n",
    "from sklearn.linear_model import LogisticRegression\n",
    "from sklearn.metrics import classification_report \n",
    "from sklearn.model_selection import train_test_split\n",
    "\n",
    "from sklearn.tree import DecisionTreeClassifier\n",
    "from IPython.core.display import Image, display\n",
    "from io import StringIO\n",
    "from sklearn import tree\n",
    "import pydot\n",
    "\n",
    "from sklearn.ensemble import RandomForestClassifier\n",
    "from sklearn.naive_bayes import MultinomialNB\n",
    "from sklearn.feature_selection import SelectKBest, f_classif, mutual_info_classif, chi2, f_regression, mutual_info_regression\n",
    "\n",
    "from sklearn.model_selection import GridSearchCV\n",
    "from sklearn.utils import resample\n",
    "from sklearn.ensemble import AdaBoostClassifier\n",
    "from sklearn import svm\n"
   ]
  },
  {
   "cell_type": "markdown",
   "metadata": {
    "cell_id": "00004-23c76f8f-f3a7-4c5a-aabb-c36dfd1aebcd",
    "deepnote_cell_type": "markdown",
    "tags": []
   },
   "source": [
    "Here are the individual datasets by year:"
   ]
  },
  {
   "cell_type": "code",
   "execution_count": 4,
   "metadata": {
    "cell_id": "00005-4dc5762e-e33b-407c-a35c-98529a7bea08",
    "deepnote_cell_type": "code",
    "execution_millis": 82,
    "execution_start": 1607106679031,
    "output_cleared": false,
    "source_hash": "7900e56b",
    "tags": []
   },
   "outputs": [],
   "source": [
    "mh2016 = pd.read_csv(\"mental_health_2016.csv\", index_col=0)\n",
    "mh2017 = pd.read_csv(\"updated_mh_data_2017.csv\", index_col=0)\n",
    "mh2018 = pd.read_csv(\"updated_mh_data_2018.csv\", index_col=0)\n",
    "mh2019 = pd.read_csv(\"mh2019.csv\", index_col=0)"
   ]
  },
  {
   "cell_type": "markdown",
   "metadata": {
    "cell_id": "00006-56239164-9286-4e04-a0c7-cd721ac1ac74",
    "deepnote_cell_type": "markdown",
    "tags": []
   },
   "source": [
    "Add a year column for each of the dataframes so we know which year the data came from. This will be a feature in our model to see how and if attitudes towards mental health have changed throughout the years. "
   ]
  },
  {
   "cell_type": "code",
   "execution_count": 5,
   "metadata": {
    "cell_id": "00007-fe1a0b91-d153-4345-8c59-828304b213ad",
    "deepnote_cell_type": "code",
    "execution_millis": 0,
    "execution_start": 1607106683460,
    "output_cleared": false,
    "source_hash": "6ca18008",
    "tags": []
   },
   "outputs": [],
   "source": [
    "mh2016['year'] = [2016] * len(mh2016)\n",
    "mh2017['year'] = [2017] * len(mh2017)\n",
    "mh2018['year'] = [2018] * len(mh2018)\n",
    "mh2019['year'] = [2019] * len(mh2019)"
   ]
  },
  {
   "cell_type": "markdown",
   "metadata": {
    "cell_id": "00008-ef8c9c91-4a9c-4f82-a159-6742c09d67bf",
    "deepnote_cell_type": "markdown",
    "tags": []
   },
   "source": [
    "Renaming columns in 2019 dataset for consistency with other years:"
   ]
  },
  {
   "cell_type": "code",
   "execution_count": 6,
   "metadata": {
    "cell_id": "00008-4fc29f31-0455-4a2d-9ec8-f2cd95bd3555",
    "deepnote_cell_type": "code",
    "execution_millis": 1,
    "execution_start": 1607106687714,
    "output_cleared": false,
    "source_hash": "2ea8a1d6",
    "tags": []
   },
   "outputs": [],
   "source": [
    "mh2019 = mh2019.rename(columns={\"**race\": \"race\", \n",
    "                                '**comfortable_talk_coworkers_mental_physical': \"comfortable_talk_coworkers_mental_physical\",\n",
    "                                \"**discuss_mental_health_employer?\": \"discuss_mental_health_employer?\",\n",
    "                                \"**conversation_employer_your_mental_health\" : \"conversation_employer_your_mental_health\",\n",
    "                                '**discuss_mental_health_coworkers' : \"discuss_mental_health_coworkers\",\n",
    "                                '**conversation_coworkers_your_mental_health' : \"conversation_coworkers_your_mental_health\",\n",
    "                                '**coworker_discuss_coworker_mental_health' : \"coworker_discuss_coworker_mental_health\",\n",
    "                                '**conversation_coworkers_their_mental_health' : \"conversation_coworkers_their_mental_health\",\n",
    "                                '**employer_physical_health_importance' : \"employer_physical_health_importance\",\n",
    "                                '**employer_mental_health_importance' : \"employer_mental_health_importance\",\n",
    "                                '**reveal_mental_health_client_affect_relationship?' : 'reveal_mental_health_client_affect_relationship?',\n",
    "                                '**reveal_mental_health_coworker_affect_relationship?' : 'reveal_mental_health_coworker_affect_relationship?',\n",
    "                                '**prev_employer_tech_company?' : 'prev_employer_tech_company?',\n",
    "                                '**comfortable_discuss_physical_mental_health_prev_employer?' : 'comfortable_discuss_physical_mental_health_prev_employer?',\n",
    "                                '**discuss_mental_health_prev_employer?' : 'discuss_mental_health_prev_employer?',\n",
    "                                '**conversation_prev_employer_mental_health' : 'conversation_prev_employer_mental_health',\n",
    "                                '**discuss_mental_health_prev_coworker?' : 'discuss_mental_health_prev_coworker?',\n",
    "                                '**conversation_prev_coworker_mental_health' : \"conversation_prev_coworker_mental_health\",\n",
    "                                '**prev_coworker_discuss_other_coworker_mental_health?' : \"prev_coworker_discuss_other_coworker_mental_health?\",\n",
    "                                '**conversation_prev_coworkers_their_mental_health' : \"conversation_prev_coworkers_their_mental_health\",\n",
    "                                '**prev_employer_importance_on_physical_health' : \"prev_employer_importance_on_physical_health\",\n",
    "                                '**prev_employer_importance_on_mental_health' : \"prev_employer_importance_on_mental_health\",\n",
    "                                '**diagnosed_disorders?' : \"diagnosed_disorders?\",\n",
    "                                '**disorders_you_believe_you_have?' : \"disorders_you_believe_you_have?\", \n",
    "                                '**which_diagnosed_disorders?' : \"which_diagnosed_disorders?\",\n",
    "                                '**openly_identified_person_with_mh_issue_work' : \"openly_identified_person_with_mh_issue_work\",\n",
    "                                '**mh_identified_affect_career?' : \"mh_identified_affect_career?\", \n",
    "                                '**how_affect_career' : \"how_affect_career\",\n",
    "                                '**how_team_react_if_knew_about_your_mh_disorder' : \"how_team_react_if_knew_about_your_mh_disorder\",\n",
    "                                '**circumstance_unsupportive_response' : \"circumstance_unsupportive_response\",\n",
    "                                '**observed_experienced_supportive_response' : \"observed_experienced_supportive_response\",\n",
    "                                '**circumstance_supportive_response' : \"circumstance_supportive_response\",\n",
    "                                '**tech_industry_support_employees_with_mh?' : \"tech_industry_support_employees_with_mh?\",\n",
    "                                '**what_industry_can_do_improve_mh_support' : \"what_industry_can_do_improve_mh_support\", \n",
    "                                '**additional_comments' : \"additional_comments\",\n",
    "                                '**willing_to_talk_more' : \"willing_to_talk_more\",\n",
    "                                })"
   ]
  },
  {
   "cell_type": "markdown",
   "metadata": {
    "cell_id": "00010-47d47b44-bb98-4e5c-bcae-84b3735bed21",
    "deepnote_cell_type": "markdown",
    "tags": []
   },
   "source": [
    "Combining 2017 and 2018 data first because columns are alike:"
   ]
  },
  {
   "cell_type": "code",
   "execution_count": 7,
   "metadata": {
    "cell_id": "00009-18a930fd-a643-4386-9579-2cd70fd12006",
    "deepnote_cell_type": "code",
    "execution_millis": 292,
    "execution_start": 1607106692925,
    "output_cleared": false,
    "source_hash": "a87311ba",
    "tags": []
   },
   "outputs": [
    {
     "data": {
      "text/html": [
       "<div>\n",
       "<style scoped>\n",
       "    .dataframe tbody tr th:only-of-type {\n",
       "        vertical-align: middle;\n",
       "    }\n",
       "\n",
       "    .dataframe tbody tr th {\n",
       "        vertical-align: top;\n",
       "    }\n",
       "\n",
       "    .dataframe thead th {\n",
       "        text-align: right;\n",
       "    }\n",
       "</style>\n",
       "<table border=\"1\" class=\"dataframe\">\n",
       "  <thead>\n",
       "    <tr style=\"text-align: right;\">\n",
       "      <th></th>\n",
       "      <th>#</th>\n",
       "      <th>self_employed</th>\n",
       "      <th>num_employees</th>\n",
       "      <th>tech_company?</th>\n",
       "      <th>role_within_tech?</th>\n",
       "      <th>provides_mental_health_benefits</th>\n",
       "      <th>know_mental_health_options</th>\n",
       "      <th>employer_discussed_mental_health</th>\n",
       "      <th>employer_offers_mental_health_resources</th>\n",
       "      <th>anonymity_protected</th>\n",
       "      <th>...</th>\n",
       "      <th>country_of_residence</th>\n",
       "      <th>us_state_residence</th>\n",
       "      <th>race</th>\n",
       "      <th>Other.3</th>\n",
       "      <th>country_of_work</th>\n",
       "      <th>us_state_work</th>\n",
       "      <th>Start Date (UTC)</th>\n",
       "      <th>Submit Date (UTC)</th>\n",
       "      <th>Network ID</th>\n",
       "      <th>year</th>\n",
       "    </tr>\n",
       "  </thead>\n",
       "  <tbody>\n",
       "    <tr>\n",
       "      <td>0</td>\n",
       "      <td>e49fe87572831232dcfa51b376b22039</td>\n",
       "      <td>0</td>\n",
       "      <td>100-500</td>\n",
       "      <td>1.0</td>\n",
       "      <td>1.0</td>\n",
       "      <td>No</td>\n",
       "      <td>Yes</td>\n",
       "      <td>No</td>\n",
       "      <td>I don't know</td>\n",
       "      <td>I don't know</td>\n",
       "      <td>...</td>\n",
       "      <td>United Kingdom</td>\n",
       "      <td>NaN</td>\n",
       "      <td>NaN</td>\n",
       "      <td>NaN</td>\n",
       "      <td>United Kingdom</td>\n",
       "      <td>NaN</td>\n",
       "      <td>2018-05-16 12:32:04</td>\n",
       "      <td>2018-05-16 12:42:40</td>\n",
       "      <td>464b7a12f1</td>\n",
       "      <td>2017</td>\n",
       "    </tr>\n",
       "    <tr>\n",
       "      <td>1</td>\n",
       "      <td>a1eede444ac024928d247a8372d54931</td>\n",
       "      <td>0</td>\n",
       "      <td>100-500</td>\n",
       "      <td>1.0</td>\n",
       "      <td>1.0</td>\n",
       "      <td>Yes</td>\n",
       "      <td>Yes</td>\n",
       "      <td>No</td>\n",
       "      <td>No</td>\n",
       "      <td>I don't know</td>\n",
       "      <td>...</td>\n",
       "      <td>United Kingdom</td>\n",
       "      <td>NaN</td>\n",
       "      <td>NaN</td>\n",
       "      <td>NaN</td>\n",
       "      <td>United Kingdom</td>\n",
       "      <td>NaN</td>\n",
       "      <td>2018-05-16 12:31:13</td>\n",
       "      <td>2018-05-16 12:40:40</td>\n",
       "      <td>464b7a12f1</td>\n",
       "      <td>2017</td>\n",
       "    </tr>\n",
       "    <tr>\n",
       "      <td>2</td>\n",
       "      <td>37d3fd67f62bd1e0a2dea4f9cd440d98</td>\n",
       "      <td>0</td>\n",
       "      <td>6-25</td>\n",
       "      <td>1.0</td>\n",
       "      <td>1.0</td>\n",
       "      <td>I don't know</td>\n",
       "      <td>No</td>\n",
       "      <td>I don't know</td>\n",
       "      <td>No</td>\n",
       "      <td>Yes</td>\n",
       "      <td>...</td>\n",
       "      <td>United States of America</td>\n",
       "      <td>Missouri</td>\n",
       "      <td>White</td>\n",
       "      <td>NaN</td>\n",
       "      <td>United States of America</td>\n",
       "      <td>Missouri</td>\n",
       "      <td>2018-05-09 05:34:05</td>\n",
       "      <td>2018-05-09 05:46:04</td>\n",
       "      <td>1eb7e0cb94</td>\n",
       "      <td>2017</td>\n",
       "    </tr>\n",
       "    <tr>\n",
       "      <td>3</td>\n",
       "      <td>519b759442c1cab0e9b5a8a1acb1b216</td>\n",
       "      <td>0</td>\n",
       "      <td>More than 1000</td>\n",
       "      <td>1.0</td>\n",
       "      <td>1.0</td>\n",
       "      <td>Yes</td>\n",
       "      <td>Yes</td>\n",
       "      <td>I don't know</td>\n",
       "      <td>I don't know</td>\n",
       "      <td>Yes</td>\n",
       "      <td>...</td>\n",
       "      <td>United States of America</td>\n",
       "      <td>Washington</td>\n",
       "      <td>White</td>\n",
       "      <td>NaN</td>\n",
       "      <td>United States of America</td>\n",
       "      <td>Washington</td>\n",
       "      <td>2018-05-04 23:19:14</td>\n",
       "      <td>2018-05-04 23:23:23</td>\n",
       "      <td>63852edbc4</td>\n",
       "      <td>2017</td>\n",
       "    </tr>\n",
       "    <tr>\n",
       "      <td>4</td>\n",
       "      <td>ef0af4927b575b1a3e607c11ca37870e</td>\n",
       "      <td>1</td>\n",
       "      <td>NaN</td>\n",
       "      <td>NaN</td>\n",
       "      <td>NaN</td>\n",
       "      <td>NaN</td>\n",
       "      <td>NaN</td>\n",
       "      <td>NaN</td>\n",
       "      <td>NaN</td>\n",
       "      <td>NaN</td>\n",
       "      <td>...</td>\n",
       "      <td>United States of America</td>\n",
       "      <td>Illinois</td>\n",
       "      <td>More than one of the above</td>\n",
       "      <td>NaN</td>\n",
       "      <td>United States of America</td>\n",
       "      <td>Illinois</td>\n",
       "      <td>2018-05-03 00:40:24</td>\n",
       "      <td>2018-05-03 00:53:20</td>\n",
       "      <td>43237889f1</td>\n",
       "      <td>2017</td>\n",
       "    </tr>\n",
       "    <tr>\n",
       "      <td>...</td>\n",
       "      <td>...</td>\n",
       "      <td>...</td>\n",
       "      <td>...</td>\n",
       "      <td>...</td>\n",
       "      <td>...</td>\n",
       "      <td>...</td>\n",
       "      <td>...</td>\n",
       "      <td>...</td>\n",
       "      <td>...</td>\n",
       "      <td>...</td>\n",
       "      <td>...</td>\n",
       "      <td>...</td>\n",
       "      <td>...</td>\n",
       "      <td>...</td>\n",
       "      <td>...</td>\n",
       "      <td>...</td>\n",
       "      <td>...</td>\n",
       "      <td>...</td>\n",
       "      <td>...</td>\n",
       "      <td>...</td>\n",
       "      <td>...</td>\n",
       "    </tr>\n",
       "    <tr>\n",
       "      <td>412</td>\n",
       "      <td>c7361d89328419b71ccd5f7cae16c818</td>\n",
       "      <td>0</td>\n",
       "      <td>6-25</td>\n",
       "      <td>1.0</td>\n",
       "      <td>1.0</td>\n",
       "      <td>I don't know</td>\n",
       "      <td>No</td>\n",
       "      <td>No</td>\n",
       "      <td>No</td>\n",
       "      <td>I don't know</td>\n",
       "      <td>...</td>\n",
       "      <td>United States of America</td>\n",
       "      <td>Tennessee</td>\n",
       "      <td>More than one of the above</td>\n",
       "      <td>NaN</td>\n",
       "      <td>United States of America</td>\n",
       "      <td>Tennessee</td>\n",
       "      <td>2018-05-24 17:55:57</td>\n",
       "      <td>2018-05-24 18:04:13</td>\n",
       "      <td>ee329366d1</td>\n",
       "      <td>2018</td>\n",
       "    </tr>\n",
       "    <tr>\n",
       "      <td>413</td>\n",
       "      <td>c27be4d2a1eb40757e5be080a68b4ca9</td>\n",
       "      <td>0</td>\n",
       "      <td>100-500</td>\n",
       "      <td>0.0</td>\n",
       "      <td>1.0</td>\n",
       "      <td>Yes</td>\n",
       "      <td>Yes</td>\n",
       "      <td>No</td>\n",
       "      <td>Yes</td>\n",
       "      <td>Yes</td>\n",
       "      <td>...</td>\n",
       "      <td>Finland</td>\n",
       "      <td>NaN</td>\n",
       "      <td>NaN</td>\n",
       "      <td>NaN</td>\n",
       "      <td>Finland</td>\n",
       "      <td>NaN</td>\n",
       "      <td>2018-05-24 17:34:07</td>\n",
       "      <td>2018-05-24 17:53:00</td>\n",
       "      <td>17e8491cd6</td>\n",
       "      <td>2018</td>\n",
       "    </tr>\n",
       "    <tr>\n",
       "      <td>414</td>\n",
       "      <td>b7bd8db00348415e1e9df49129290e31</td>\n",
       "      <td>0</td>\n",
       "      <td>100-500</td>\n",
       "      <td>0.0</td>\n",
       "      <td>1.0</td>\n",
       "      <td>Yes</td>\n",
       "      <td>Yes</td>\n",
       "      <td>I don't know</td>\n",
       "      <td>I don't know</td>\n",
       "      <td>I don't know</td>\n",
       "      <td>...</td>\n",
       "      <td>United States of America</td>\n",
       "      <td>New Jersey</td>\n",
       "      <td>NaN</td>\n",
       "      <td>South Asian</td>\n",
       "      <td>United States of America</td>\n",
       "      <td>New Jersey</td>\n",
       "      <td>2018-05-24 17:35:11</td>\n",
       "      <td>2018-05-24 17:48:38</td>\n",
       "      <td>6bf2230231</td>\n",
       "      <td>2018</td>\n",
       "    </tr>\n",
       "    <tr>\n",
       "      <td>415</td>\n",
       "      <td>d0a97741b04f1887f43c23839200a195</td>\n",
       "      <td>0</td>\n",
       "      <td>6-25</td>\n",
       "      <td>1.0</td>\n",
       "      <td>1.0</td>\n",
       "      <td>Yes</td>\n",
       "      <td>Yes</td>\n",
       "      <td>I don't know</td>\n",
       "      <td>Yes</td>\n",
       "      <td>I don't know</td>\n",
       "      <td>...</td>\n",
       "      <td>United States of America</td>\n",
       "      <td>Tennessee</td>\n",
       "      <td>White</td>\n",
       "      <td>NaN</td>\n",
       "      <td>United States of America</td>\n",
       "      <td>Tennessee</td>\n",
       "      <td>2018-05-24 17:38:05</td>\n",
       "      <td>2018-05-24 17:47:25</td>\n",
       "      <td>26df20fea3</td>\n",
       "      <td>2018</td>\n",
       "    </tr>\n",
       "    <tr>\n",
       "      <td>416</td>\n",
       "      <td>2f601b517e25f2623c6c1e415ea079c8</td>\n",
       "      <td>0</td>\n",
       "      <td>More than 1000</td>\n",
       "      <td>0.0</td>\n",
       "      <td>1.0</td>\n",
       "      <td>Yes</td>\n",
       "      <td>Yes</td>\n",
       "      <td>No</td>\n",
       "      <td>No</td>\n",
       "      <td>Yes</td>\n",
       "      <td>...</td>\n",
       "      <td>United States of America</td>\n",
       "      <td>Tennessee</td>\n",
       "      <td>White</td>\n",
       "      <td>NaN</td>\n",
       "      <td>United States of America</td>\n",
       "      <td>Tennessee</td>\n",
       "      <td>2018-05-24 17:16:32</td>\n",
       "      <td>2018-05-24 17:23:59</td>\n",
       "      <td>e9bdfa165f</td>\n",
       "      <td>2018</td>\n",
       "    </tr>\n",
       "  </tbody>\n",
       "</table>\n",
       "<p>1173 rows × 86 columns</p>\n",
       "</div>"
      ],
      "text/plain": [
       "                                    #  self_employed   num_employees  \\\n",
       "0    e49fe87572831232dcfa51b376b22039              0         100-500   \n",
       "1    a1eede444ac024928d247a8372d54931              0         100-500   \n",
       "2    37d3fd67f62bd1e0a2dea4f9cd440d98              0            6-25   \n",
       "3    519b759442c1cab0e9b5a8a1acb1b216              0  More than 1000   \n",
       "4    ef0af4927b575b1a3e607c11ca37870e              1             NaN   \n",
       "..                                ...            ...             ...   \n",
       "412  c7361d89328419b71ccd5f7cae16c818              0            6-25   \n",
       "413  c27be4d2a1eb40757e5be080a68b4ca9              0         100-500   \n",
       "414  b7bd8db00348415e1e9df49129290e31              0         100-500   \n",
       "415  d0a97741b04f1887f43c23839200a195              0            6-25   \n",
       "416  2f601b517e25f2623c6c1e415ea079c8              0  More than 1000   \n",
       "\n",
       "     tech_company?  role_within_tech? provides_mental_health_benefits  \\\n",
       "0              1.0                1.0                              No   \n",
       "1              1.0                1.0                             Yes   \n",
       "2              1.0                1.0                    I don't know   \n",
       "3              1.0                1.0                             Yes   \n",
       "4              NaN                NaN                             NaN   \n",
       "..             ...                ...                             ...   \n",
       "412            1.0                1.0                    I don't know   \n",
       "413            0.0                1.0                             Yes   \n",
       "414            0.0                1.0                             Yes   \n",
       "415            1.0                1.0                             Yes   \n",
       "416            0.0                1.0                             Yes   \n",
       "\n",
       "    know_mental_health_options employer_discussed_mental_health  \\\n",
       "0                          Yes                               No   \n",
       "1                          Yes                               No   \n",
       "2                           No                     I don't know   \n",
       "3                          Yes                     I don't know   \n",
       "4                          NaN                              NaN   \n",
       "..                         ...                              ...   \n",
       "412                         No                               No   \n",
       "413                        Yes                               No   \n",
       "414                        Yes                     I don't know   \n",
       "415                        Yes                     I don't know   \n",
       "416                        Yes                               No   \n",
       "\n",
       "    employer_offers_mental_health_resources anonymity_protected  ...  \\\n",
       "0                              I don't know        I don't know  ...   \n",
       "1                                        No        I don't know  ...   \n",
       "2                                        No                 Yes  ...   \n",
       "3                              I don't know                 Yes  ...   \n",
       "4                                       NaN                 NaN  ...   \n",
       "..                                      ...                 ...  ...   \n",
       "412                                      No        I don't know  ...   \n",
       "413                                     Yes                 Yes  ...   \n",
       "414                            I don't know        I don't know  ...   \n",
       "415                                     Yes        I don't know  ...   \n",
       "416                                      No                 Yes  ...   \n",
       "\n",
       "         country_of_residence us_state_residence                        race  \\\n",
       "0              United Kingdom                NaN                         NaN   \n",
       "1              United Kingdom                NaN                         NaN   \n",
       "2    United States of America           Missouri                       White   \n",
       "3    United States of America         Washington                       White   \n",
       "4    United States of America           Illinois  More than one of the above   \n",
       "..                        ...                ...                         ...   \n",
       "412  United States of America          Tennessee  More than one of the above   \n",
       "413                   Finland                NaN                         NaN   \n",
       "414  United States of America         New Jersey                         NaN   \n",
       "415  United States of America          Tennessee                       White   \n",
       "416  United States of America          Tennessee                       White   \n",
       "\n",
       "         Other.3           country_of_work us_state_work     Start Date (UTC)  \\\n",
       "0            NaN            United Kingdom           NaN  2018-05-16 12:32:04   \n",
       "1            NaN            United Kingdom           NaN  2018-05-16 12:31:13   \n",
       "2            NaN  United States of America      Missouri  2018-05-09 05:34:05   \n",
       "3            NaN  United States of America    Washington  2018-05-04 23:19:14   \n",
       "4            NaN  United States of America      Illinois  2018-05-03 00:40:24   \n",
       "..           ...                       ...           ...                  ...   \n",
       "412          NaN  United States of America     Tennessee  2018-05-24 17:55:57   \n",
       "413          NaN                   Finland           NaN  2018-05-24 17:34:07   \n",
       "414  South Asian  United States of America    New Jersey  2018-05-24 17:35:11   \n",
       "415          NaN  United States of America     Tennessee  2018-05-24 17:38:05   \n",
       "416          NaN  United States of America     Tennessee  2018-05-24 17:16:32   \n",
       "\n",
       "       Submit Date (UTC)  Network ID  year  \n",
       "0    2018-05-16 12:42:40  464b7a12f1  2017  \n",
       "1    2018-05-16 12:40:40  464b7a12f1  2017  \n",
       "2    2018-05-09 05:46:04  1eb7e0cb94  2017  \n",
       "3    2018-05-04 23:23:23  63852edbc4  2017  \n",
       "4    2018-05-03 00:53:20  43237889f1  2017  \n",
       "..                   ...         ...   ...  \n",
       "412  2018-05-24 18:04:13  ee329366d1  2018  \n",
       "413  2018-05-24 17:53:00  17e8491cd6  2018  \n",
       "414  2018-05-24 17:48:38  6bf2230231  2018  \n",
       "415  2018-05-24 17:47:25  26df20fea3  2018  \n",
       "416  2018-05-24 17:23:59  e9bdfa165f  2018  \n",
       "\n",
       "[1173 rows x 86 columns]"
      ]
     },
     "execution_count": 7,
     "metadata": {},
     "output_type": "execute_result"
    }
   ],
   "source": [
    "mh2017_2018 = pd.concat([mh2017, mh2018])\n",
    "mh2017_2018"
   ]
  },
  {
   "cell_type": "markdown",
   "metadata": {
    "cell_id": "00012-f35e30fa-aa11-4f61-8319-f685206c81da",
    "deepnote_cell_type": "markdown",
    "tags": []
   },
   "source": [
    "Combining 2017/2018 combined data with 2019 data"
   ]
  },
  {
   "cell_type": "code",
   "execution_count": 8,
   "metadata": {
    "cell_id": "00010-d6de6ef2-655b-4d3a-9dbe-fda508258a16",
    "deepnote_cell_type": "code",
    "execution_millis": 197,
    "execution_start": 1607106697965,
    "output_cleared": false,
    "source_hash": "73bfa4bb",
    "tags": []
   },
   "outputs": [],
   "source": [
    "# this combines all the dataframes (takes all columns across all individual dataframes and checks if the others have it too, if not then nan for those rows)\n",
    "combined_df = mh2016.append([mh2017_2018, mh2019])"
   ]
  },
  {
   "cell_type": "markdown",
   "metadata": {
    "cell_id": "00016-2c5fa031-fcea-442d-9d51-9b9b895dbe31",
    "deepnote_cell_type": "markdown",
    "tags": []
   },
   "source": [
    "Let's check nulls across each columns (for all years):\n"
   ]
  },
  {
   "cell_type": "code",
   "execution_count": 9,
   "metadata": {
    "cell_id": "00014-c46d78f7-bde5-4a69-a30e-67e18edb714f",
    "deepnote_cell_type": "code",
    "execution_millis": 42,
    "execution_start": 1607106715902,
    "output_cleared": false,
    "source_hash": "ad85391d",
    "tags": []
   },
   "outputs": [
    {
     "name": "stdout",
     "output_type": "stream",
     "text": [
      "year                                                            0\n",
      "mh_issue_interferes_with_work_when_not_treated                  0\n",
      "bring_up_mental_health_in_interview                             0\n",
      "bring_up_physical_health_in_interview                           0\n",
      "have_previous_employers                                         0\n",
      "family_history_of_mental_illness?                               0\n",
      "self_employed                                                   0\n",
      "mh_issue_interferes_with_work_when_treated                      0\n",
      "currently_have_mental_health_disorder?                          0\n",
      "willing_to_share_mh_friendsandfamily                            0\n",
      "sought_treatment_for_mh_issue_from_professional                 0\n",
      "age                                                             2\n",
      "country_of_residence                                            2\n",
      "country_of_work                                                 2\n",
      "gender                                                          3\n",
      "mental_disorder_in_past?                                       15\n",
      "bad_response_to_mh_issue_in_workplaces?                        54\n",
      "employer_offers_mental_health_resources                       217\n",
      "employer_discussed_mental_health                              217\n",
      "comfortable_discussing_with_supervisor                        217\n",
      "comfortable_discussing_with_coworkers                         217\n",
      "anonymity_protected                                           217\n",
      "asking_for_medical_leave                                      217\n",
      "tech_company?                                                 217\n",
      "provides_mental_health_benefits                               217\n",
      "num_employees                                                 217\n",
      "prev_employers_anonymity_protected                            330\n",
      "discuss_mh_with_prev_coworkers                                330\n",
      "aware_of_mh_care_by_prev_employers                            330\n",
      "discuss_mh_with_prev_supervisor                               330\n",
      "previous_employers_provided_mh_benefits                       330\n",
      "prev_employers_discuss_mental_health                          330\n",
      "prev_employers_provide_mh_resources                           330\n",
      "know_mental_health_options                                    479\n",
      "bring_up_mental_health_in_interview_why                       577\n",
      "bring_up_physical_health_in_interview_why                     632\n",
      "been_diagnosed_with_mh_condition_disorder                     863\n",
      "us_state_work                                                 939\n",
      "us_state_residence                                            941\n",
      "observations_of_others_less_likely_to_reveal_mh_issues        961\n",
      "role_within_tech?                                            1096\n",
      "tech_industry_support_employees_with_mh?                     1143\n",
      "openly_identified_person_with_mh_issue_work                  1143\n",
      "observed_experienced_supportive_response                     1143\n",
      "how_team_react_if_knew_about_your_mh_disorder                1143\n",
      "willing_to_talk_more                                         1143\n",
      "comfortable_discuss_physical_mental_health_prev_employer?    1340\n",
      "prev_employer_tech_company?                                  1340\n",
      "prev_employer_importance_on_physical_health                  1340\n",
      "prev_employer_importance_on_mental_health                    1340\n",
      "discuss_mental_health_prev_employer?                         1340\n",
      "discuss_mental_health_prev_coworker?                         1344\n",
      "prev_coworker_discuss_other_coworker_mental_health?          1347\n",
      "discuss_mental_health_employer?                              1358\n",
      "comfortable_talk_coworkers_mental_physical                   1358\n",
      "employer_physical_health_importance                          1358\n",
      "employer_mental_health_importance                            1358\n",
      "discuss_mental_health_coworkers                              1362\n",
      "coworker_discuss_coworker_mental_health                      1364\n",
      "#                                                            1493\n",
      "Network ID                                                   1493\n",
      "Start Date (UTC)                                             1493\n",
      "Submit Date (UTC)                                            1493\n",
      "**coworkers_view_you_negatively?                             1525\n",
      "**mh_hurt_your_career?                                       1525\n",
      "*discussing_mental_health_with_employer_negative?            1525\n",
      "*discussing_physical_health_with_employer_negative?          1525\n",
      "*employer_takes_mh_seriously_as_ph                           1525\n",
      "*heard/observed_consequences_mh                              1525\n",
      "*work_remotely?                                              1525\n",
      "age_bins                                                     1525\n",
      "*work_position                                               1525\n",
      "what_industry_can_do_improve_mh_support                      1623\n",
      "**discuss_mh_with_prev_coworkers_negative?                   1656\n",
      "**discuss_ph_with_prev_coworkers_negative?                   1656\n",
      "**neg_consequences_for_cowrkers_mh_in_prev_place?            1656\n",
      "**prev_employer_took_mh_seriously_as_ph                      1656\n",
      "race                                                         1678\n",
      "*if_so_what_condition_diagnosed?                             2105\n",
      "conversation_coworkers_their_mental_health                   2202\n",
      "conversation_coworkers_your_mental_health                    2215\n",
      "**if_yes_what_condition_diagnosed?                           2222\n",
      "additional_comments                                          2285\n",
      "conversation_employer_your_mental_health                     2314\n",
      "circumstance_unsupportive_response                           2329\n",
      "conversation_prev_coworker_mental_health                     2359\n",
      "conversation_prev_coworkers_their_mental_health              2395\n",
      "**if_maybe_what_condition?                                   2417\n",
      "conversation_prev_employer_mental_health                     2438\n",
      "medical_coverage_for_mental_health                           2449\n",
      "know_local_online_resources                                  2449\n",
      "productivity_affected?                                       2449\n",
      "reveal_diagnosis_to_clients                                  2449\n",
      "reveal_diagnosis_to_coworkers                                2449\n",
      "reveal_mental_health_coworker_affect_relationship?           2449\n",
      "mh_identified_affect_career?                                 2486\n",
      "percentage_work_affected_by_mental_health_issue              2503\n",
      "which_diagnosed_disorders?                                   2522\n",
      "reveal_mental_health_client_affect_relationship?             2574\n",
      "disorders_you_believe_you_have?                              2594\n",
      "how_affect_career                                            2606\n",
      "Other.3                                                      2642\n",
      "Other.2                                                      2647\n",
      "circumstance_supportive_response                             2666\n",
      "diagnosed_disorders?                                         2666\n"
     ]
    }
   ],
   "source": [
    "print(combined_df.isna().sum().sort_values().to_string())"
   ]
  },
  {
   "cell_type": "markdown",
   "metadata": {
    "cell_id": "00016-abf3eda6-ea48-4258-a4f5-706cb10dd239",
    "deepnote_cell_type": "markdown",
    "tags": []
   },
   "source": [
    "Drop columns that have many missing values:"
   ]
  },
  {
   "cell_type": "code",
   "execution_count": 10,
   "metadata": {
    "cell_id": "00017-a13e7161-59e9-4629-bab3-8625512f23a6",
    "deepnote_cell_type": "code",
    "execution_millis": 3,
    "execution_start": 1607106729645,
    "output_cleared": false,
    "source_hash": "2e119745",
    "tags": []
   },
   "outputs": [],
   "source": [
    "combined_df = combined_df.drop(columns = ['*discussing_mental_health_with_employer_negative?',\n",
    "'*discussing_physical_health_with_employer_negative?',\n",
    "'*employer_takes_mh_seriously_as_ph',\n",
    "'*heard/observed_consequences_mh',\n",
    "'**discuss_mh_with_prev_coworkers_negative?',\n",
    "'**discuss_ph_with_prev_coworkers_negative?',\n",
    "'**prev_employer_took_mh_seriously_as_ph',\n",
    "'**neg_consequences_for_cowrkers_mh_in_prev_place?',\n",
    "'**mh_hurt_your_career?',\n",
    "'**coworkers_view_you_negatively?',\n",
    "'**if_yes_what_condition_diagnosed?',\n",
    "'**if_maybe_what_condition?',\n",
    "'*if_so_what_condition_diagnosed?',\n",
    "'*work_position',\n",
    "'*work_remotely?',\n",
    "'Other.2',\n",
    "'Other.3'\n",
    "])"
   ]
  },
  {
   "cell_type": "markdown",
   "metadata": {
    "cell_id": "00018-707d5e80-4912-4b42-b737-1da4f3225594",
    "deepnote_cell_type": "markdown",
    "tags": []
   },
   "source": [
    "Create new dataset called filtered_combined_df_6789, which is a subset of combined_df where we look at necessary columns:"
   ]
  },
  {
   "cell_type": "code",
   "execution_count": 11,
   "metadata": {
    "cell_id": "00022-a3b04f89-b03a-4f5c-bd79-d8b96bb9798c",
    "deepnote_cell_type": "code",
    "execution_millis": 1,
    "execution_start": 1607107781036,
    "output_cleared": false,
    "source_hash": "7b5f1a54",
    "tags": []
   },
   "outputs": [],
   "source": [
    "filtered_combined_df_6789 = combined_df[[\"year\",                                                             \n",
    "\"mh_issue_interferes_with_work_when_not_treated\",                   \n",
    "\"mh_issue_interferes_with_work_when_treated\",                      \n",
    "\"sought_treatment_for_mh_issue_from_professional\",                  \n",
    "\"currently_have_mental_health_disorder?\",                          \n",
    "\"family_history_of_mental_illness?\",                               \n",
    "\"willing_to_share_mh_friendsandfamily\",                             \n",
    "\"bring_up_mental_health_in_interview\",                             \n",
    "\"bring_up_physical_health_in_interview\",                                                                                                               \n",
    "\"age\",                                                                                                       \n",
    "\"gender\",                                                   \n",
    "\"mental_disorder_in_past?\",                                \n",
    "\"bad_response_to_mh_issue_in_workplaces?\",                 \n",
    "\"num_employees\",                                              \n",
    "\"tech_company?\" ,                                           \n",
    "\"provides_mental_health_benefits\"   ,                         \n",
    "\"employer_discussed_mental_health\",                            \n",
    "\"comfortable_discussing_with_supervisor\",                      \n",
    "\"employer_offers_mental_health_resources\",                   \n",
    "\"comfortable_discussing_with_coworkers\",                        \n",
    "\"asking_for_medical_leave\",                                   \n",
    "\"anonymity_protected\",                                          \n",
    "\"discuss_mh_with_prev_supervisor\"     ,                        \n",
    "\"discuss_mh_with_prev_coworkers\"  ,                                                  \n",
    "\"know_mental_health_options\" ,\n",
    "\"have_previous_employers\", \n",
    "'previous_employers_provided_mh_benefits',\n",
    "'aware_of_mh_care_by_prev_employers',\n",
    "'prev_employers_discuss_mental_health',\n",
    "'prev_employers_provide_mh_resources',\n",
    "'prev_employers_anonymity_protected']]"
   ]
  },
  {
   "cell_type": "markdown",
   "metadata": {
    "cell_id": "00022-769712ed-7592-4018-bf29-5f07e472cfce",
    "deepnote_cell_type": "markdown",
    "tags": []
   },
   "source": [
    "Now we will drop rows where there are na's in target column. We don't want to impute the target column because it would fill in missing values with 1/Yes which doesn't make sense (means that people who don't respond are comfortable talking with supervisor) - instead we drop na's.\n"
   ]
  },
  {
   "cell_type": "code",
   "execution_count": 12,
   "metadata": {
    "cell_id": "00025-95c59b74-c86b-46e8-94ee-8e1ab3b4a580",
    "deepnote_cell_type": "code",
    "execution_millis": 123,
    "execution_start": 1607107788769,
    "output_cleared": false,
    "source_hash": "e6f8404e",
    "tags": []
   },
   "outputs": [
    {
     "data": {
      "text/html": [
       "<div>\n",
       "<style scoped>\n",
       "    .dataframe tbody tr th:only-of-type {\n",
       "        vertical-align: middle;\n",
       "    }\n",
       "\n",
       "    .dataframe tbody tr th {\n",
       "        vertical-align: top;\n",
       "    }\n",
       "\n",
       "    .dataframe thead th {\n",
       "        text-align: right;\n",
       "    }\n",
       "</style>\n",
       "<table border=\"1\" class=\"dataframe\">\n",
       "  <thead>\n",
       "    <tr style=\"text-align: right;\">\n",
       "      <th></th>\n",
       "      <th>year</th>\n",
       "      <th>mh_issue_interferes_with_work_when_not_treated</th>\n",
       "      <th>mh_issue_interferes_with_work_when_treated</th>\n",
       "      <th>sought_treatment_for_mh_issue_from_professional</th>\n",
       "      <th>currently_have_mental_health_disorder?</th>\n",
       "      <th>family_history_of_mental_illness?</th>\n",
       "      <th>willing_to_share_mh_friendsandfamily</th>\n",
       "      <th>bring_up_mental_health_in_interview</th>\n",
       "      <th>bring_up_physical_health_in_interview</th>\n",
       "      <th>age</th>\n",
       "      <th>...</th>\n",
       "      <th>anonymity_protected</th>\n",
       "      <th>discuss_mh_with_prev_supervisor</th>\n",
       "      <th>discuss_mh_with_prev_coworkers</th>\n",
       "      <th>know_mental_health_options</th>\n",
       "      <th>have_previous_employers</th>\n",
       "      <th>previous_employers_provided_mh_benefits</th>\n",
       "      <th>aware_of_mh_care_by_prev_employers</th>\n",
       "      <th>prev_employers_discuss_mental_health</th>\n",
       "      <th>prev_employers_provide_mh_resources</th>\n",
       "      <th>prev_employers_anonymity_protected</th>\n",
       "    </tr>\n",
       "  </thead>\n",
       "  <tbody>\n",
       "    <tr>\n",
       "      <td>0</td>\n",
       "      <td>2016</td>\n",
       "      <td>Not applicable to me</td>\n",
       "      <td>Not applicable to me</td>\n",
       "      <td>0</td>\n",
       "      <td>No</td>\n",
       "      <td>No</td>\n",
       "      <td>Somewhat open</td>\n",
       "      <td>Maybe</td>\n",
       "      <td>Maybe</td>\n",
       "      <td>39.0</td>\n",
       "      <td>...</td>\n",
       "      <td>I don't know</td>\n",
       "      <td>Some of my previous employers</td>\n",
       "      <td>Some of my previous employers</td>\n",
       "      <td>NaN</td>\n",
       "      <td>1</td>\n",
       "      <td>No, none did</td>\n",
       "      <td>N/A (not currently aware)</td>\n",
       "      <td>I don't know</td>\n",
       "      <td>None did</td>\n",
       "      <td>I don't know</td>\n",
       "    </tr>\n",
       "    <tr>\n",
       "      <td>1</td>\n",
       "      <td>2016</td>\n",
       "      <td>Sometimes</td>\n",
       "      <td>Rarely</td>\n",
       "      <td>1</td>\n",
       "      <td>Yes</td>\n",
       "      <td>Yes</td>\n",
       "      <td>Somewhat open</td>\n",
       "      <td>No</td>\n",
       "      <td>Maybe</td>\n",
       "      <td>29.0</td>\n",
       "      <td>...</td>\n",
       "      <td>Yes</td>\n",
       "      <td>Some of my previous employers</td>\n",
       "      <td>No, at none of my previous employers</td>\n",
       "      <td>Yes</td>\n",
       "      <td>1</td>\n",
       "      <td>Yes, they all did</td>\n",
       "      <td>I was aware of some</td>\n",
       "      <td>None did</td>\n",
       "      <td>Some did</td>\n",
       "      <td>Yes, always</td>\n",
       "    </tr>\n",
       "    <tr>\n",
       "      <td>2</td>\n",
       "      <td>2016</td>\n",
       "      <td>Not applicable to me</td>\n",
       "      <td>Not applicable to me</td>\n",
       "      <td>1</td>\n",
       "      <td>No</td>\n",
       "      <td>No</td>\n",
       "      <td>Somewhat open</td>\n",
       "      <td>Yes</td>\n",
       "      <td>Yes</td>\n",
       "      <td>38.0</td>\n",
       "      <td>...</td>\n",
       "      <td>I don't know</td>\n",
       "      <td>I don't know</td>\n",
       "      <td>Some of my previous employers</td>\n",
       "      <td>NaN</td>\n",
       "      <td>1</td>\n",
       "      <td>No, none did</td>\n",
       "      <td>N/A (not currently aware)</td>\n",
       "      <td>None did</td>\n",
       "      <td>Some did</td>\n",
       "      <td>I don't know</td>\n",
       "    </tr>\n",
       "    <tr>\n",
       "      <td>4</td>\n",
       "      <td>2016</td>\n",
       "      <td>Sometimes</td>\n",
       "      <td>Sometimes</td>\n",
       "      <td>1</td>\n",
       "      <td>Yes</td>\n",
       "      <td>Yes</td>\n",
       "      <td>Somewhat open</td>\n",
       "      <td>No</td>\n",
       "      <td>Maybe</td>\n",
       "      <td>43.0</td>\n",
       "      <td>...</td>\n",
       "      <td>No</td>\n",
       "      <td>Some of my previous employers</td>\n",
       "      <td>No, at none of my previous employers</td>\n",
       "      <td>Yes</td>\n",
       "      <td>1</td>\n",
       "      <td>I don't know</td>\n",
       "      <td>N/A (not currently aware)</td>\n",
       "      <td>Some did</td>\n",
       "      <td>None did</td>\n",
       "      <td>I don't know</td>\n",
       "    </tr>\n",
       "    <tr>\n",
       "      <td>5</td>\n",
       "      <td>2016</td>\n",
       "      <td>Often</td>\n",
       "      <td>Not applicable to me</td>\n",
       "      <td>1</td>\n",
       "      <td>Yes</td>\n",
       "      <td>No</td>\n",
       "      <td>Somewhat open</td>\n",
       "      <td>Maybe</td>\n",
       "      <td>Yes</td>\n",
       "      <td>42.0</td>\n",
       "      <td>...</td>\n",
       "      <td>Yes</td>\n",
       "      <td>No, at none of my previous employers</td>\n",
       "      <td>No, at none of my previous employers</td>\n",
       "      <td>I am not sure</td>\n",
       "      <td>1</td>\n",
       "      <td>No, none did</td>\n",
       "      <td>Yes, I was aware of all of them</td>\n",
       "      <td>None did</td>\n",
       "      <td>None did</td>\n",
       "      <td>I don't know</td>\n",
       "    </tr>\n",
       "    <tr>\n",
       "      <td>...</td>\n",
       "      <td>...</td>\n",
       "      <td>...</td>\n",
       "      <td>...</td>\n",
       "      <td>...</td>\n",
       "      <td>...</td>\n",
       "      <td>...</td>\n",
       "      <td>...</td>\n",
       "      <td>...</td>\n",
       "      <td>...</td>\n",
       "      <td>...</td>\n",
       "      <td>...</td>\n",
       "      <td>...</td>\n",
       "      <td>...</td>\n",
       "      <td>...</td>\n",
       "      <td>...</td>\n",
       "      <td>...</td>\n",
       "      <td>...</td>\n",
       "      <td>...</td>\n",
       "      <td>...</td>\n",
       "      <td>...</td>\n",
       "      <td>...</td>\n",
       "    </tr>\n",
       "    <tr>\n",
       "      <td>345</td>\n",
       "      <td>2019</td>\n",
       "      <td>Often</td>\n",
       "      <td>Sometimes</td>\n",
       "      <td>1</td>\n",
       "      <td>No</td>\n",
       "      <td>Yes</td>\n",
       "      <td>10</td>\n",
       "      <td>Maybe</td>\n",
       "      <td>Yes</td>\n",
       "      <td>26.0</td>\n",
       "      <td>...</td>\n",
       "      <td>Yes</td>\n",
       "      <td>NaN</td>\n",
       "      <td>NaN</td>\n",
       "      <td>No</td>\n",
       "      <td>0</td>\n",
       "      <td>NaN</td>\n",
       "      <td>NaN</td>\n",
       "      <td>NaN</td>\n",
       "      <td>NaN</td>\n",
       "      <td>NaN</td>\n",
       "    </tr>\n",
       "    <tr>\n",
       "      <td>346</td>\n",
       "      <td>2019</td>\n",
       "      <td>Often</td>\n",
       "      <td>Not applicable to me</td>\n",
       "      <td>0</td>\n",
       "      <td>No</td>\n",
       "      <td>No</td>\n",
       "      <td>5</td>\n",
       "      <td>No</td>\n",
       "      <td>No</td>\n",
       "      <td>31.0</td>\n",
       "      <td>...</td>\n",
       "      <td>I don't know</td>\n",
       "      <td>NaN</td>\n",
       "      <td>NaN</td>\n",
       "      <td>No</td>\n",
       "      <td>0</td>\n",
       "      <td>NaN</td>\n",
       "      <td>NaN</td>\n",
       "      <td>NaN</td>\n",
       "      <td>NaN</td>\n",
       "      <td>NaN</td>\n",
       "    </tr>\n",
       "    <tr>\n",
       "      <td>347</td>\n",
       "      <td>2019</td>\n",
       "      <td>Sometimes</td>\n",
       "      <td>Sometimes</td>\n",
       "      <td>0</td>\n",
       "      <td>Possibly</td>\n",
       "      <td>No</td>\n",
       "      <td>9</td>\n",
       "      <td>No</td>\n",
       "      <td>Maybe</td>\n",
       "      <td>27.0</td>\n",
       "      <td>...</td>\n",
       "      <td>I don't know</td>\n",
       "      <td>No, none of my previous supervisors</td>\n",
       "      <td>No, at none of my previous employers</td>\n",
       "      <td>No</td>\n",
       "      <td>1</td>\n",
       "      <td>No, none did</td>\n",
       "      <td>N/A (none offered)</td>\n",
       "      <td>I don't know</td>\n",
       "      <td>None did</td>\n",
       "      <td>I don't know</td>\n",
       "    </tr>\n",
       "    <tr>\n",
       "      <td>350</td>\n",
       "      <td>2019</td>\n",
       "      <td>Often</td>\n",
       "      <td>Often</td>\n",
       "      <td>0</td>\n",
       "      <td>Possibly</td>\n",
       "      <td>No</td>\n",
       "      <td>2</td>\n",
       "      <td>No</td>\n",
       "      <td>No</td>\n",
       "      <td>30.0</td>\n",
       "      <td>...</td>\n",
       "      <td>Yes</td>\n",
       "      <td>I don't know</td>\n",
       "      <td>No, at none of my previous employers</td>\n",
       "      <td>No</td>\n",
       "      <td>1</td>\n",
       "      <td>No, none did</td>\n",
       "      <td>N/A (was not aware)</td>\n",
       "      <td>None did</td>\n",
       "      <td>None did</td>\n",
       "      <td>I don't know</td>\n",
       "    </tr>\n",
       "    <tr>\n",
       "      <td>351</td>\n",
       "      <td>2019</td>\n",
       "      <td>Often</td>\n",
       "      <td>Sometimes</td>\n",
       "      <td>1</td>\n",
       "      <td>Yes</td>\n",
       "      <td>Yes</td>\n",
       "      <td>10</td>\n",
       "      <td>Yes</td>\n",
       "      <td>Maybe</td>\n",
       "      <td>24.0</td>\n",
       "      <td>...</td>\n",
       "      <td>Yes</td>\n",
       "      <td>Some of my previous supervisors</td>\n",
       "      <td>At some of my previous employers</td>\n",
       "      <td>Yes</td>\n",
       "      <td>1</td>\n",
       "      <td>No, none did</td>\n",
       "      <td>N/A (none offered)</td>\n",
       "      <td>Some did</td>\n",
       "      <td>Some did</td>\n",
       "      <td>I don't know</td>\n",
       "    </tr>\n",
       "  </tbody>\n",
       "</table>\n",
       "<p>2449 rows × 31 columns</p>\n",
       "</div>"
      ],
      "text/plain": [
       "     year mh_issue_interferes_with_work_when_not_treated  \\\n",
       "0    2016                           Not applicable to me   \n",
       "1    2016                                      Sometimes   \n",
       "2    2016                           Not applicable to me   \n",
       "4    2016                                      Sometimes   \n",
       "5    2016                                          Often   \n",
       "..    ...                                            ...   \n",
       "345  2019                                          Often   \n",
       "346  2019                                          Often   \n",
       "347  2019                                      Sometimes   \n",
       "350  2019                                          Often   \n",
       "351  2019                                          Often   \n",
       "\n",
       "    mh_issue_interferes_with_work_when_treated  \\\n",
       "0                         Not applicable to me   \n",
       "1                                       Rarely   \n",
       "2                         Not applicable to me   \n",
       "4                                    Sometimes   \n",
       "5                         Not applicable to me   \n",
       "..                                         ...   \n",
       "345                                  Sometimes   \n",
       "346                       Not applicable to me   \n",
       "347                                  Sometimes   \n",
       "350                                      Often   \n",
       "351                                  Sometimes   \n",
       "\n",
       "     sought_treatment_for_mh_issue_from_professional  \\\n",
       "0                                                  0   \n",
       "1                                                  1   \n",
       "2                                                  1   \n",
       "4                                                  1   \n",
       "5                                                  1   \n",
       "..                                               ...   \n",
       "345                                                1   \n",
       "346                                                0   \n",
       "347                                                0   \n",
       "350                                                0   \n",
       "351                                                1   \n",
       "\n",
       "    currently_have_mental_health_disorder? family_history_of_mental_illness?  \\\n",
       "0                                       No                                No   \n",
       "1                                      Yes                               Yes   \n",
       "2                                       No                                No   \n",
       "4                                      Yes                               Yes   \n",
       "5                                      Yes                                No   \n",
       "..                                     ...                               ...   \n",
       "345                                     No                               Yes   \n",
       "346                                     No                                No   \n",
       "347                               Possibly                                No   \n",
       "350                               Possibly                                No   \n",
       "351                                    Yes                               Yes   \n",
       "\n",
       "    willing_to_share_mh_friendsandfamily bring_up_mental_health_in_interview  \\\n",
       "0                          Somewhat open                               Maybe   \n",
       "1                          Somewhat open                                  No   \n",
       "2                          Somewhat open                                 Yes   \n",
       "4                          Somewhat open                                  No   \n",
       "5                          Somewhat open                               Maybe   \n",
       "..                                   ...                                 ...   \n",
       "345                                   10                               Maybe   \n",
       "346                                    5                                  No   \n",
       "347                                    9                                  No   \n",
       "350                                    2                                  No   \n",
       "351                                   10                                 Yes   \n",
       "\n",
       "    bring_up_physical_health_in_interview   age  ... anonymity_protected  \\\n",
       "0                                   Maybe  39.0  ...        I don't know   \n",
       "1                                   Maybe  29.0  ...                 Yes   \n",
       "2                                     Yes  38.0  ...        I don't know   \n",
       "4                                   Maybe  43.0  ...                  No   \n",
       "5                                     Yes  42.0  ...                 Yes   \n",
       "..                                    ...   ...  ...                 ...   \n",
       "345                                   Yes  26.0  ...                 Yes   \n",
       "346                                    No  31.0  ...        I don't know   \n",
       "347                                 Maybe  27.0  ...        I don't know   \n",
       "350                                    No  30.0  ...                 Yes   \n",
       "351                                 Maybe  24.0  ...                 Yes   \n",
       "\n",
       "          discuss_mh_with_prev_supervisor  \\\n",
       "0           Some of my previous employers   \n",
       "1           Some of my previous employers   \n",
       "2                            I don't know   \n",
       "4           Some of my previous employers   \n",
       "5    No, at none of my previous employers   \n",
       "..                                    ...   \n",
       "345                                   NaN   \n",
       "346                                   NaN   \n",
       "347   No, none of my previous supervisors   \n",
       "350                          I don't know   \n",
       "351       Some of my previous supervisors   \n",
       "\n",
       "           discuss_mh_with_prev_coworkers know_mental_health_options  \\\n",
       "0           Some of my previous employers                        NaN   \n",
       "1    No, at none of my previous employers                        Yes   \n",
       "2           Some of my previous employers                        NaN   \n",
       "4    No, at none of my previous employers                        Yes   \n",
       "5    No, at none of my previous employers              I am not sure   \n",
       "..                                    ...                        ...   \n",
       "345                                   NaN                         No   \n",
       "346                                   NaN                         No   \n",
       "347  No, at none of my previous employers                         No   \n",
       "350  No, at none of my previous employers                         No   \n",
       "351      At some of my previous employers                        Yes   \n",
       "\n",
       "    have_previous_employers previous_employers_provided_mh_benefits  \\\n",
       "0                         1                            No, none did   \n",
       "1                         1                       Yes, they all did   \n",
       "2                         1                            No, none did   \n",
       "4                         1                            I don't know   \n",
       "5                         1                            No, none did   \n",
       "..                      ...                                     ...   \n",
       "345                       0                                     NaN   \n",
       "346                       0                                     NaN   \n",
       "347                       1                            No, none did   \n",
       "350                       1                            No, none did   \n",
       "351                       1                            No, none did   \n",
       "\n",
       "    aware_of_mh_care_by_prev_employers prev_employers_discuss_mental_health  \\\n",
       "0            N/A (not currently aware)                         I don't know   \n",
       "1                  I was aware of some                             None did   \n",
       "2            N/A (not currently aware)                             None did   \n",
       "4            N/A (not currently aware)                             Some did   \n",
       "5      Yes, I was aware of all of them                             None did   \n",
       "..                                 ...                                  ...   \n",
       "345                                NaN                                  NaN   \n",
       "346                                NaN                                  NaN   \n",
       "347                 N/A (none offered)                         I don't know   \n",
       "350                N/A (was not aware)                             None did   \n",
       "351                 N/A (none offered)                             Some did   \n",
       "\n",
       "    prev_employers_provide_mh_resources prev_employers_anonymity_protected  \n",
       "0                              None did                       I don't know  \n",
       "1                              Some did                        Yes, always  \n",
       "2                              Some did                       I don't know  \n",
       "4                              None did                       I don't know  \n",
       "5                              None did                       I don't know  \n",
       "..                                  ...                                ...  \n",
       "345                                 NaN                                NaN  \n",
       "346                                 NaN                                NaN  \n",
       "347                            None did                       I don't know  \n",
       "350                            None did                       I don't know  \n",
       "351                            Some did                       I don't know  \n",
       "\n",
       "[2449 rows x 31 columns]"
      ]
     },
     "execution_count": 12,
     "metadata": {},
     "output_type": "execute_result"
    }
   ],
   "source": [
    "filtered_combined_df_6789 = filtered_combined_df_6789.dropna(subset = ['comfortable_discussing_with_supervisor'])\n",
    "filtered_combined_df_6789"
   ]
  },
  {
   "cell_type": "markdown",
   "metadata": {
    "cell_id": "00024-acaf8a04-3440-4e39-b8f3-7bfac74f96f7",
    "deepnote_cell_type": "markdown",
    "tags": []
   },
   "source": [
    "We want to only select/analyze the people who do have a previous employer so we filter by the `have_previous_employers` column.\n"
   ]
  },
  {
   "cell_type": "code",
   "execution_count": 13,
   "metadata": {
    "cell_id": "00027-0d1eb147-a87d-4d83-94ba-e2538f1d39c8",
    "deepnote_cell_type": "code",
    "execution_millis": 4,
    "execution_start": 1607107794442,
    "output_cleared": false,
    "source_hash": "563d1d7d",
    "tags": []
   },
   "outputs": [],
   "source": [
    "filtered_combined_df_6789 = filtered_combined_df_6789[filtered_combined_df_6789['have_previous_employers'] == 1]"
   ]
  },
  {
   "cell_type": "markdown",
   "metadata": {
    "cell_id": "00029-16f380f4-6e63-4493-a7b5-0c18865d1082",
    "deepnote_cell_type": "markdown",
    "tags": []
   },
   "source": [
    "Some of the columns that we have are a mix of numeric and string types. Below we will encode these so they are all the same type. We will also fill NA (null values will be encoded as \"I don't know\"). We choose to do this instead of imputing."
   ]
  },
  {
   "cell_type": "code",
   "execution_count": 15,
   "metadata": {
    "cell_id": "00030-c6029e80-e547-4b04-bbb4-8d5ac239d5f9",
    "deepnote_cell_type": "code",
    "execution_millis": 8,
    "execution_start": 1607107802186,
    "output_cleared": false,
    "source_hash": "c911f648",
    "tags": []
   },
   "outputs": [],
   "source": [
    "# fill na for the three columns that have null values in the above output\n",
    "filtered_combined_df_6789['know_mental_health_options'] = filtered_combined_df_6789['know_mental_health_options'].fillna('I am not sure')\n",
    "filtered_combined_df_6789['bad_response_to_mh_issue_in_workplaces?'] = filtered_combined_df_6789['bad_response_to_mh_issue_in_workplaces?'].fillna('Maybe/Not sure')\n",
    "filtered_combined_df_6789['mental_disorder_in_past?'] = filtered_combined_df_6789['mental_disorder_in_past?'].fillna(\"Don't Know\")"
   ]
  },
  {
   "cell_type": "code",
   "execution_count": 16,
   "metadata": {
    "cell_id": "00031-9494f6f1-1a7f-4e5f-800e-9a42d8a7758a",
    "deepnote_cell_type": "code",
    "execution_millis": 6,
    "execution_start": 1607107803975,
    "output_cleared": false,
    "source_hash": "b5a9db93",
    "tags": []
   },
   "outputs": [
    {
     "name": "stdout",
     "output_type": "stream",
     "text": [
      "year                                               0\n",
      "prev_employers_discuss_mental_health               0\n",
      "aware_of_mh_care_by_prev_employers                 0\n",
      "previous_employers_provided_mh_benefits            0\n",
      "have_previous_employers                            0\n",
      "know_mental_health_options                         0\n",
      "discuss_mh_with_prev_coworkers                     0\n",
      "discuss_mh_with_prev_supervisor                    0\n",
      "anonymity_protected                                0\n",
      "asking_for_medical_leave                           0\n",
      "comfortable_discussing_with_coworkers              0\n",
      "employer_offers_mental_health_resources            0\n",
      "comfortable_discussing_with_supervisor             0\n",
      "employer_discussed_mental_health                   0\n",
      "prev_employers_provide_mh_resources                0\n",
      "provides_mental_health_benefits                    0\n",
      "num_employees                                      0\n",
      "bad_response_to_mh_issue_in_workplaces?            0\n",
      "mental_disorder_in_past?                           0\n",
      "age                                                0\n",
      "bring_up_physical_health_in_interview              0\n",
      "bring_up_mental_health_in_interview                0\n",
      "willing_to_share_mh_friendsandfamily               0\n",
      "family_history_of_mental_illness?                  0\n",
      "currently_have_mental_health_disorder?             0\n",
      "sought_treatment_for_mh_issue_from_professional    0\n",
      "mh_issue_interferes_with_work_when_treated         0\n",
      "mh_issue_interferes_with_work_when_not_treated     0\n",
      "tech_company?                                      0\n",
      "prev_employers_anonymity_protected                 0\n",
      "gender                                             1\n"
     ]
    }
   ],
   "source": [
    "print(filtered_combined_df_6789.isna().sum().sort_values().to_string())"
   ]
  },
  {
   "cell_type": "markdown",
   "metadata": {
    "cell_id": "00027-b66ed972-7bf8-4ed1-abd7-7bb15b1cd8ce",
    "deepnote_cell_type": "markdown",
    "tags": []
   },
   "source": [
    "Drop the one row that has a null gender value. We now have no missing value rows left! "
   ]
  },
  {
   "cell_type": "code",
   "execution_count": 17,
   "metadata": {
    "cell_id": "00031-bc67aaab-c77a-4be5-ba35-a5811f7d2b08",
    "deepnote_cell_type": "code",
    "execution_millis": 4,
    "execution_start": 1607107806353,
    "output_cleared": false,
    "source_hash": "4fb01174",
    "tags": []
   },
   "outputs": [],
   "source": [
    "filtered_combined_df_6789 = filtered_combined_df_6789.dropna()"
   ]
  },
  {
   "cell_type": "markdown",
   "metadata": {},
   "source": [
    "We drop the column 'have_previous_employers' since we have selected all rows where this variable was True."
   ]
  },
  {
   "cell_type": "code",
   "execution_count": 18,
   "metadata": {},
   "outputs": [],
   "source": [
    "filtered_combined_df_6789 = filtered_combined_df_6789.drop(columns=['have_previous_employers'])"
   ]
  },
  {
   "cell_type": "markdown",
   "metadata": {
    "cell_id": "00029-c75f5404-ba9e-4f3c-aab7-2349a8a29f8b",
    "deepnote_cell_type": "markdown",
    "tags": []
   },
   "source": [
    "We are almost ready to model, but because we have lots of categorical features, we must first encode them as numeric so that we can run the models "
   ]
  },
  {
   "cell_type": "code",
   "execution_count": 19,
   "metadata": {
    "cell_id": "00025-fc9c1e40-9abd-4b97-a34c-6a0e2564b884",
    "deepnote_cell_type": "code",
    "execution_millis": 2,
    "execution_start": 1607107811895,
    "output_cleared": false,
    "source_hash": "808203c2",
    "tags": []
   },
   "outputs": [],
   "source": [
    "# Encode all non-NaN string values numerically and fill in missing values \n",
    "def encoding_6789(df):\n",
    "    X = df\n",
    "\n",
    "    #Making survey values consistent amongst all years\n",
    "    X = X.replace({'willing_to_share_mh_friendsandfamily': \n",
    "    {0 : \"Not applicable to me (I do not have a mental illness)\", 1 : \"Not open at all\", \n",
    "    2:\"Not open at all\", 3 : \"Somewhat not open\", \n",
    "    4 : \"Somewhat not open\", 5 : \"Neutral\", 6 : \"Somewhat open\", \n",
    "    7 : \"Somewhat open\", 8 : \"Very open\",9 : \"Very open\", 10 : \"Very open\"}})\n",
    "\n",
    "\n",
    "\n",
    "    Female = ['Female', 'female', 'Female ', 'Woman', 'woman', 'F', 'f', 'I identify as female', '*shrug emoji* (F)', 'Cis woman', 'Female (cisgender)',  'Cis-Female', 'Cisgendered woman', 'She/her/they/them', 'Cis female ', 'cisgender female' ]\n",
    "    Male = ['male', 'Male', 'Ostensibly Male', 'male, born with xy chromosoms', 'Malel', 'M','MALE','m','Cis-male', 'Male ', 'cis male','Cis Male','Man', 'Cisgender male', 'SWM']\n",
    "    TransFemale = ['Trans woman', 'Trans female']\n",
    "    TransMale = ['Trans man']\n",
    "    Trans = ['transgender']\n",
    "    NonBinary = ['Nonbinary','Male (or female, or both)','Agender', 'non binary', 'Female/gender non-binary.', 'Demiguy', 'non-binary', 'She/her/they/them', 'NB', 'Nonbinary/femme', 'gender non-conforming woman']\n",
    "    GenderFluid = ['genderfluid', 'Genderqueer', 'Genderfluid']\n",
    "    Other = ['nan' , 'Other', 'none']\n",
    "\n",
    "    X.loc[X.gender.isin(Female), 'gender'] = 'Female'\n",
    "    X.loc[X.gender.isin(Male), 'gender'] = 'Male'\n",
    "    X.loc[X.gender.isin(TransFemale), 'gender'] = 'Trans Female'\n",
    "    X.loc[X.gender.isin(TransMale), 'gender'] = 'Trans Male'\n",
    "    X.loc[X.gender.isin(Trans), 'gender'] = 'Transgender'\n",
    "    X.loc[X.gender.isin(NonBinary), 'gender'] = 'Nonbinary'\n",
    "    X.loc[X.gender.isin(GenderFluid), 'gender'] = 'Gender Fluid'\n",
    "    X.loc[X.gender.isin(Other), 'gender'] = 'Other'\n",
    "\n",
    "    X = X.replace({'gender': {'male': 'Male',\n",
    "                            'female' : \"Female\",\n",
    "                            'non_binary' : 'Nonbinary',\n",
    "                            'trans_female' : 'Trans Female',\n",
    "                            'gender_fluid' : 'Gender Fluid',\n",
    "                            'other' : \"Other\",\n",
    "                            'Cisgender Male' : 'Male', \n",
    "                            'Cisgender Female' : \"Female\", \n",
    "                            'Gender-fluid' : 'Gender Fluid', \n",
    "                            'Transgender Female' : \"Trans Female\",\n",
    "                            'Transgender (unspecified)': 'Transgender'}})\n",
    "\n",
    "\n",
    "    X = X.replace({'provides_mental_health_benefits': {'Not eligible for coverage / N/A': 'Not eligible for coverage / NA'}})\n",
    "    \n",
    "    X = X.replace({'discuss_mh_with_prev_coworkers': {'At some of my previous employers': 'Some of my previous employers'}})\n",
    "\n",
    "\n",
    "    #Replace strings with numeric\n",
    "    X = X.replace({'mh_issue_interferes_with_work_when_not_treated' : {'Not applicable to me' : 0, 'Sometimes' : 1, 'Often' : 2, 'Rarely': 3, 'Never' : 4}})\n",
    "    X = X.replace({'mh_issue_interferes_with_work_when_treated' : {'Not applicable to me' : 0, 'Sometimes' : 1, 'Often' : 2, 'Rarely': 3, 'Never' : 4}})\n",
    "    X = X.replace({'currently_have_mental_health_disorder?' : {'Yes' : 1, 'Maybe' : 2, 'No' : 0, 'Possibly': 3, \"Don't Know\" : 4}})\n",
    "    X = X.replace({'family_history_of_mental_illness?' : {'No' : 0, 'Yes': 1, \"I don't know\" : 2}})\n",
    "    X = X.replace({'willing_to_share_mh_friendsandfamily' : {'Somewhat open' : 4, 'Not applicable to me (I do not have a mental illness)' : 0, 'Very open' : 5, 'Not open at all' : 1, 'Neutral' : 3, 'Somewhat not open' : 2}})\n",
    "    \n",
    "\n",
    "\n",
    "    X = X.replace({'bring_up_mental_health_in_interview' : {'Yes' : 1, 'No' : 0, 'Maybe' : 2}})\n",
    "\n",
    "    X = X.replace({'bring_up_physical_health_in_interview' : {'Yes' : 1, 'No' : 0, 'Maybe' : 2}})\n",
    "\n",
    "    X = X.replace({'gender' : {'Male':0, 'Female': 1, 'Nonbinary': 2, 'Trans Female': 3, 'Gender Fluid': 4, 'Other': 5, 'Trans Male': 6, 'Transgender':7}})\n",
    "\n",
    "\n",
    "    X = X.replace({'mental_disorder_in_past?' : {'Yes' : 1, 'Maybe'  : 2, 'No' : 0, 'Possibly': 3, \"Don't Know\" : 4}})\n",
    "    X = X.replace({'bad_response_to_mh_issue_in_workplaces?' : {'No' : 0, 'Maybe/Not sure' : 3, 'Yes, I experienced' : 1, 'Yes, I observed' : 2}})\n",
    "    X = X.replace({'num_employees' : {'26-100' : 3, '6-25' : 2, 'More than 1000': 6, '100-500' : 4, '500-1000' : 5, '1-5' : 1}})\n",
    "    X = X.replace({'tech_company?' : {'1.0' : 1, '0.0' : 0}})\n",
    "    X = X.replace({'provides_mental_health_benefits' : {'Not eligible for coverage / NA' : 0, 'No' : 1, 'Yes' : 2, \"I don't know\" : 3}})\n",
    "    X = X.replace({'employer_discussed_mental_health' : {'No' : 0, 'Yes': 1, \"I don't know\" : 2}})\n",
    "    X = X.replace({'employer_offers_mental_health_resources' : {'No' : 0, 'Yes': 1, \"I don't know\" : 2}})\n",
    "\n",
    "\n",
    "\n",
    "    X = X.replace({\"comfortable_discussing_with_coworkers\" : {'Yes' : 1, 'No' : 0, 'Maybe' : 2}})\n",
    "    X = X.replace({\"asking_for_medical_leave\" : {'Very easy': 1, 'Somewhat easy': 2, 'Neither easy nor difficult': 3, 'Somewhat difficult': 4, 'Very difficult': 5, 'Difficult': 6, \"I don't know\": 7}})\n",
    "    X = X.replace({\"anonymity_protected\" : {'No' : 0, 'Yes': 1, \"I don't know\" : 2}})\n",
    "\n",
    "    X = X.replace({\"discuss_mh_with_prev_supervisor\" : {'No, at none of my previous employers' : 1, \n",
    "    'No, none of my previous supervisors' : 2, 'Some of my previous employers' : 3,\n",
    "    'Some of my previous supervisors' : 4, 'Yes, at all of my previous employers' : 5,\n",
    "    'Yes, all of my previous supervisors' : 6, \"I don't know\" : 7}} )\n",
    "    X = X.replace({\"discuss_mh_with_prev_coworkers\" : {'No, at none of my previous employers' : 0, 'Yes, at all of my previous employers' : 1, 'Some of my previous employers' : 2 }})\n",
    "    X = X.replace({\"know_mental_health_options\" : {'I am not sure' : 2,  'Yes' : 1,  'No' : 0}})\n",
    "\n",
    "    X = X.replace({\"comfortable_discussing_with_supervisor\" : {'Yes' : 1, 'No' : 0, 'Maybe' : 2}})\n",
    "\n",
    "    X = X.replace({\"prev_employers_provide_mh_resources\" : {'Some did' : 2,  'Yes, they all did' : 1,  'None did' : 0}})\n",
    "\n",
    "    X = X.replace({'prev_employers_anonymity_protected': {\"I don't know\":0, 'Yes, always':1, 'Sometimes':2, 'No':3}})\n",
    "    \n",
    "    X = X.replace({'previous_employers_provided_mh_benefits' : {\"I don't know\" : 0,\n",
    "                                                            'No, none did' : 1,\n",
    "                                                            'Some did' : 2,\n",
    "                                                            'Yes, they all did' : 3}})\n",
    "\n",
    "    X = X.replace({'prev_employers_discuss_mental_health' : {\"I don't know\" : 0, 'None did' : -1, 'Some did' : 1, 'Yes, they all did' : 2}})\n",
    "    X = X.replace({'aware_of_mh_care_by_prev_employers' : {'N/A (not currently aware)' : 0, 'I was aware of some' : 1, 'Yes, I was aware of all of them' : 2, 'No, I only became aware later' : -1, 'N/A (was not aware)' : -2, 'N/A (none offered)' :-3 }})\n",
    "            \n",
    "    return X"
   ]
  },
  {
   "cell_type": "markdown",
   "metadata": {
    "cell_id": "00031-5b60026f-c7b1-48be-94c1-63a9268cda22",
    "deepnote_cell_type": "markdown",
    "tags": []
   },
   "source": [
    "Call the encoding function on the filtered_combined_df_6789 dataset, and call it encoded_df_6789"
   ]
  },
  {
   "cell_type": "code",
   "execution_count": 20,
   "metadata": {
    "cell_id": "00035-90a26a5f-b68b-473d-a604-dcad50f859f7",
    "deepnote_cell_type": "code",
    "execution_millis": 194,
    "execution_start": 1607107814000,
    "output_cleared": false,
    "source_hash": "5f7f8b7c",
    "tags": []
   },
   "outputs": [
    {
     "data": {
      "text/html": [
       "<div>\n",
       "<style scoped>\n",
       "    .dataframe tbody tr th:only-of-type {\n",
       "        vertical-align: middle;\n",
       "    }\n",
       "\n",
       "    .dataframe tbody tr th {\n",
       "        vertical-align: top;\n",
       "    }\n",
       "\n",
       "    .dataframe thead th {\n",
       "        text-align: right;\n",
       "    }\n",
       "</style>\n",
       "<table border=\"1\" class=\"dataframe\">\n",
       "  <thead>\n",
       "    <tr style=\"text-align: right;\">\n",
       "      <th></th>\n",
       "      <th>year</th>\n",
       "      <th>mh_issue_interferes_with_work_when_not_treated</th>\n",
       "      <th>mh_issue_interferes_with_work_when_treated</th>\n",
       "      <th>sought_treatment_for_mh_issue_from_professional</th>\n",
       "      <th>currently_have_mental_health_disorder?</th>\n",
       "      <th>family_history_of_mental_illness?</th>\n",
       "      <th>willing_to_share_mh_friendsandfamily</th>\n",
       "      <th>bring_up_mental_health_in_interview</th>\n",
       "      <th>bring_up_physical_health_in_interview</th>\n",
       "      <th>age</th>\n",
       "      <th>...</th>\n",
       "      <th>asking_for_medical_leave</th>\n",
       "      <th>anonymity_protected</th>\n",
       "      <th>discuss_mh_with_prev_supervisor</th>\n",
       "      <th>discuss_mh_with_prev_coworkers</th>\n",
       "      <th>know_mental_health_options</th>\n",
       "      <th>previous_employers_provided_mh_benefits</th>\n",
       "      <th>aware_of_mh_care_by_prev_employers</th>\n",
       "      <th>prev_employers_discuss_mental_health</th>\n",
       "      <th>prev_employers_provide_mh_resources</th>\n",
       "      <th>prev_employers_anonymity_protected</th>\n",
       "    </tr>\n",
       "  </thead>\n",
       "  <tbody>\n",
       "    <tr>\n",
       "      <td>0</td>\n",
       "      <td>2016</td>\n",
       "      <td>0</td>\n",
       "      <td>0</td>\n",
       "      <td>0</td>\n",
       "      <td>0</td>\n",
       "      <td>0</td>\n",
       "      <td>4</td>\n",
       "      <td>2</td>\n",
       "      <td>2</td>\n",
       "      <td>39.0</td>\n",
       "      <td>...</td>\n",
       "      <td>1</td>\n",
       "      <td>2</td>\n",
       "      <td>3</td>\n",
       "      <td>2</td>\n",
       "      <td>2</td>\n",
       "      <td>1</td>\n",
       "      <td>0</td>\n",
       "      <td>0</td>\n",
       "      <td>0</td>\n",
       "      <td>0</td>\n",
       "    </tr>\n",
       "    <tr>\n",
       "      <td>1</td>\n",
       "      <td>2016</td>\n",
       "      <td>1</td>\n",
       "      <td>3</td>\n",
       "      <td>1</td>\n",
       "      <td>1</td>\n",
       "      <td>1</td>\n",
       "      <td>4</td>\n",
       "      <td>0</td>\n",
       "      <td>2</td>\n",
       "      <td>29.0</td>\n",
       "      <td>...</td>\n",
       "      <td>2</td>\n",
       "      <td>1</td>\n",
       "      <td>3</td>\n",
       "      <td>0</td>\n",
       "      <td>1</td>\n",
       "      <td>3</td>\n",
       "      <td>1</td>\n",
       "      <td>-1</td>\n",
       "      <td>2</td>\n",
       "      <td>1</td>\n",
       "    </tr>\n",
       "    <tr>\n",
       "      <td>2</td>\n",
       "      <td>2016</td>\n",
       "      <td>0</td>\n",
       "      <td>0</td>\n",
       "      <td>1</td>\n",
       "      <td>0</td>\n",
       "      <td>0</td>\n",
       "      <td>4</td>\n",
       "      <td>1</td>\n",
       "      <td>1</td>\n",
       "      <td>38.0</td>\n",
       "      <td>...</td>\n",
       "      <td>3</td>\n",
       "      <td>2</td>\n",
       "      <td>7</td>\n",
       "      <td>2</td>\n",
       "      <td>2</td>\n",
       "      <td>1</td>\n",
       "      <td>0</td>\n",
       "      <td>-1</td>\n",
       "      <td>2</td>\n",
       "      <td>0</td>\n",
       "    </tr>\n",
       "    <tr>\n",
       "      <td>4</td>\n",
       "      <td>2016</td>\n",
       "      <td>1</td>\n",
       "      <td>1</td>\n",
       "      <td>1</td>\n",
       "      <td>1</td>\n",
       "      <td>1</td>\n",
       "      <td>4</td>\n",
       "      <td>0</td>\n",
       "      <td>2</td>\n",
       "      <td>43.0</td>\n",
       "      <td>...</td>\n",
       "      <td>3</td>\n",
       "      <td>0</td>\n",
       "      <td>3</td>\n",
       "      <td>0</td>\n",
       "      <td>1</td>\n",
       "      <td>0</td>\n",
       "      <td>0</td>\n",
       "      <td>1</td>\n",
       "      <td>0</td>\n",
       "      <td>0</td>\n",
       "    </tr>\n",
       "    <tr>\n",
       "      <td>5</td>\n",
       "      <td>2016</td>\n",
       "      <td>2</td>\n",
       "      <td>0</td>\n",
       "      <td>1</td>\n",
       "      <td>1</td>\n",
       "      <td>0</td>\n",
       "      <td>4</td>\n",
       "      <td>2</td>\n",
       "      <td>1</td>\n",
       "      <td>42.0</td>\n",
       "      <td>...</td>\n",
       "      <td>2</td>\n",
       "      <td>1</td>\n",
       "      <td>1</td>\n",
       "      <td>0</td>\n",
       "      <td>2</td>\n",
       "      <td>1</td>\n",
       "      <td>2</td>\n",
       "      <td>-1</td>\n",
       "      <td>0</td>\n",
       "      <td>0</td>\n",
       "    </tr>\n",
       "    <tr>\n",
       "      <td>...</td>\n",
       "      <td>...</td>\n",
       "      <td>...</td>\n",
       "      <td>...</td>\n",
       "      <td>...</td>\n",
       "      <td>...</td>\n",
       "      <td>...</td>\n",
       "      <td>...</td>\n",
       "      <td>...</td>\n",
       "      <td>...</td>\n",
       "      <td>...</td>\n",
       "      <td>...</td>\n",
       "      <td>...</td>\n",
       "      <td>...</td>\n",
       "      <td>...</td>\n",
       "      <td>...</td>\n",
       "      <td>...</td>\n",
       "      <td>...</td>\n",
       "      <td>...</td>\n",
       "      <td>...</td>\n",
       "      <td>...</td>\n",
       "      <td>...</td>\n",
       "    </tr>\n",
       "    <tr>\n",
       "      <td>342</td>\n",
       "      <td>2019</td>\n",
       "      <td>2</td>\n",
       "      <td>1</td>\n",
       "      <td>1</td>\n",
       "      <td>1</td>\n",
       "      <td>1</td>\n",
       "      <td>3</td>\n",
       "      <td>2</td>\n",
       "      <td>1</td>\n",
       "      <td>30.0</td>\n",
       "      <td>...</td>\n",
       "      <td>3</td>\n",
       "      <td>2</td>\n",
       "      <td>2</td>\n",
       "      <td>0</td>\n",
       "      <td>2</td>\n",
       "      <td>1</td>\n",
       "      <td>-3</td>\n",
       "      <td>-1</td>\n",
       "      <td>0</td>\n",
       "      <td>0</td>\n",
       "    </tr>\n",
       "    <tr>\n",
       "      <td>344</td>\n",
       "      <td>2019</td>\n",
       "      <td>2</td>\n",
       "      <td>2</td>\n",
       "      <td>1</td>\n",
       "      <td>1</td>\n",
       "      <td>1</td>\n",
       "      <td>5</td>\n",
       "      <td>0</td>\n",
       "      <td>2</td>\n",
       "      <td>42.0</td>\n",
       "      <td>...</td>\n",
       "      <td>4</td>\n",
       "      <td>2</td>\n",
       "      <td>2</td>\n",
       "      <td>0</td>\n",
       "      <td>0</td>\n",
       "      <td>2</td>\n",
       "      <td>1</td>\n",
       "      <td>-1</td>\n",
       "      <td>2</td>\n",
       "      <td>0</td>\n",
       "    </tr>\n",
       "    <tr>\n",
       "      <td>347</td>\n",
       "      <td>2019</td>\n",
       "      <td>1</td>\n",
       "      <td>1</td>\n",
       "      <td>0</td>\n",
       "      <td>3</td>\n",
       "      <td>0</td>\n",
       "      <td>5</td>\n",
       "      <td>0</td>\n",
       "      <td>2</td>\n",
       "      <td>27.0</td>\n",
       "      <td>...</td>\n",
       "      <td>4</td>\n",
       "      <td>2</td>\n",
       "      <td>2</td>\n",
       "      <td>0</td>\n",
       "      <td>0</td>\n",
       "      <td>1</td>\n",
       "      <td>-3</td>\n",
       "      <td>0</td>\n",
       "      <td>0</td>\n",
       "      <td>0</td>\n",
       "    </tr>\n",
       "    <tr>\n",
       "      <td>350</td>\n",
       "      <td>2019</td>\n",
       "      <td>2</td>\n",
       "      <td>2</td>\n",
       "      <td>0</td>\n",
       "      <td>3</td>\n",
       "      <td>0</td>\n",
       "      <td>1</td>\n",
       "      <td>0</td>\n",
       "      <td>0</td>\n",
       "      <td>30.0</td>\n",
       "      <td>...</td>\n",
       "      <td>6</td>\n",
       "      <td>1</td>\n",
       "      <td>7</td>\n",
       "      <td>0</td>\n",
       "      <td>0</td>\n",
       "      <td>1</td>\n",
       "      <td>-2</td>\n",
       "      <td>-1</td>\n",
       "      <td>0</td>\n",
       "      <td>0</td>\n",
       "    </tr>\n",
       "    <tr>\n",
       "      <td>351</td>\n",
       "      <td>2019</td>\n",
       "      <td>2</td>\n",
       "      <td>1</td>\n",
       "      <td>1</td>\n",
       "      <td>1</td>\n",
       "      <td>1</td>\n",
       "      <td>5</td>\n",
       "      <td>1</td>\n",
       "      <td>2</td>\n",
       "      <td>24.0</td>\n",
       "      <td>...</td>\n",
       "      <td>4</td>\n",
       "      <td>1</td>\n",
       "      <td>4</td>\n",
       "      <td>2</td>\n",
       "      <td>1</td>\n",
       "      <td>1</td>\n",
       "      <td>-3</td>\n",
       "      <td>1</td>\n",
       "      <td>2</td>\n",
       "      <td>0</td>\n",
       "    </tr>\n",
       "  </tbody>\n",
       "</table>\n",
       "<p>2138 rows × 30 columns</p>\n",
       "</div>"
      ],
      "text/plain": [
       "     year  mh_issue_interferes_with_work_when_not_treated  \\\n",
       "0    2016                                               0   \n",
       "1    2016                                               1   \n",
       "2    2016                                               0   \n",
       "4    2016                                               1   \n",
       "5    2016                                               2   \n",
       "..    ...                                             ...   \n",
       "342  2019                                               2   \n",
       "344  2019                                               2   \n",
       "347  2019                                               1   \n",
       "350  2019                                               2   \n",
       "351  2019                                               2   \n",
       "\n",
       "     mh_issue_interferes_with_work_when_treated  \\\n",
       "0                                             0   \n",
       "1                                             3   \n",
       "2                                             0   \n",
       "4                                             1   \n",
       "5                                             0   \n",
       "..                                          ...   \n",
       "342                                           1   \n",
       "344                                           2   \n",
       "347                                           1   \n",
       "350                                           2   \n",
       "351                                           1   \n",
       "\n",
       "     sought_treatment_for_mh_issue_from_professional  \\\n",
       "0                                                  0   \n",
       "1                                                  1   \n",
       "2                                                  1   \n",
       "4                                                  1   \n",
       "5                                                  1   \n",
       "..                                               ...   \n",
       "342                                                1   \n",
       "344                                                1   \n",
       "347                                                0   \n",
       "350                                                0   \n",
       "351                                                1   \n",
       "\n",
       "     currently_have_mental_health_disorder?  \\\n",
       "0                                         0   \n",
       "1                                         1   \n",
       "2                                         0   \n",
       "4                                         1   \n",
       "5                                         1   \n",
       "..                                      ...   \n",
       "342                                       1   \n",
       "344                                       1   \n",
       "347                                       3   \n",
       "350                                       3   \n",
       "351                                       1   \n",
       "\n",
       "     family_history_of_mental_illness?  willing_to_share_mh_friendsandfamily  \\\n",
       "0                                    0                                     4   \n",
       "1                                    1                                     4   \n",
       "2                                    0                                     4   \n",
       "4                                    1                                     4   \n",
       "5                                    0                                     4   \n",
       "..                                 ...                                   ...   \n",
       "342                                  1                                     3   \n",
       "344                                  1                                     5   \n",
       "347                                  0                                     5   \n",
       "350                                  0                                     1   \n",
       "351                                  1                                     5   \n",
       "\n",
       "     bring_up_mental_health_in_interview  \\\n",
       "0                                      2   \n",
       "1                                      0   \n",
       "2                                      1   \n",
       "4                                      0   \n",
       "5                                      2   \n",
       "..                                   ...   \n",
       "342                                    2   \n",
       "344                                    0   \n",
       "347                                    0   \n",
       "350                                    0   \n",
       "351                                    1   \n",
       "\n",
       "     bring_up_physical_health_in_interview   age  ...  \\\n",
       "0                                        2  39.0  ...   \n",
       "1                                        2  29.0  ...   \n",
       "2                                        1  38.0  ...   \n",
       "4                                        2  43.0  ...   \n",
       "5                                        1  42.0  ...   \n",
       "..                                     ...   ...  ...   \n",
       "342                                      1  30.0  ...   \n",
       "344                                      2  42.0  ...   \n",
       "347                                      2  27.0  ...   \n",
       "350                                      0  30.0  ...   \n",
       "351                                      2  24.0  ...   \n",
       "\n",
       "     asking_for_medical_leave  anonymity_protected  \\\n",
       "0                           1                    2   \n",
       "1                           2                    1   \n",
       "2                           3                    2   \n",
       "4                           3                    0   \n",
       "5                           2                    1   \n",
       "..                        ...                  ...   \n",
       "342                         3                    2   \n",
       "344                         4                    2   \n",
       "347                         4                    2   \n",
       "350                         6                    1   \n",
       "351                         4                    1   \n",
       "\n",
       "     discuss_mh_with_prev_supervisor  discuss_mh_with_prev_coworkers  \\\n",
       "0                                  3                               2   \n",
       "1                                  3                               0   \n",
       "2                                  7                               2   \n",
       "4                                  3                               0   \n",
       "5                                  1                               0   \n",
       "..                               ...                             ...   \n",
       "342                                2                               0   \n",
       "344                                2                               0   \n",
       "347                                2                               0   \n",
       "350                                7                               0   \n",
       "351                                4                               2   \n",
       "\n",
       "    know_mental_health_options  previous_employers_provided_mh_benefits  \\\n",
       "0                            2                                        1   \n",
       "1                            1                                        3   \n",
       "2                            2                                        1   \n",
       "4                            1                                        0   \n",
       "5                            2                                        1   \n",
       "..                         ...                                      ...   \n",
       "342                          2                                        1   \n",
       "344                          0                                        2   \n",
       "347                          0                                        1   \n",
       "350                          0                                        1   \n",
       "351                          1                                        1   \n",
       "\n",
       "     aware_of_mh_care_by_prev_employers  prev_employers_discuss_mental_health  \\\n",
       "0                                     0                                     0   \n",
       "1                                     1                                    -1   \n",
       "2                                     0                                    -1   \n",
       "4                                     0                                     1   \n",
       "5                                     2                                    -1   \n",
       "..                                  ...                                   ...   \n",
       "342                                  -3                                    -1   \n",
       "344                                   1                                    -1   \n",
       "347                                  -3                                     0   \n",
       "350                                  -2                                    -1   \n",
       "351                                  -3                                     1   \n",
       "\n",
       "     prev_employers_provide_mh_resources  prev_employers_anonymity_protected  \n",
       "0                                      0                                   0  \n",
       "1                                      2                                   1  \n",
       "2                                      2                                   0  \n",
       "4                                      0                                   0  \n",
       "5                                      0                                   0  \n",
       "..                                   ...                                 ...  \n",
       "342                                    0                                   0  \n",
       "344                                    2                                   0  \n",
       "347                                    0                                   0  \n",
       "350                                    0                                   0  \n",
       "351                                    2                                   0  \n",
       "\n",
       "[2138 rows x 30 columns]"
      ]
     },
     "execution_count": 20,
     "metadata": {},
     "output_type": "execute_result"
    }
   ],
   "source": [
    "encoded_df_6789 = encoding_6789(filtered_combined_df_6789)\n",
    "encoded_df_6789"
   ]
  },
  {
   "cell_type": "markdown",
   "metadata": {
    "cell_id": "00037-9228bef3-88b4-4041-8e0a-c8decf4820ea",
    "deepnote_cell_type": "markdown",
    "tags": []
   },
   "source": [
    "Now our data is all numeric with no null values, we can start modeling!!!!"
   ]
  },
  {
   "cell_type": "markdown",
   "metadata": {
    "cell_id": "00056-0121417a-931f-4269-a627-b8a7e8f65459",
    "deepnote_cell_type": "markdown",
    "tags": []
   },
   "source": [
    "### Modeling with 2016-2019 data\n",
    "\n",
    "We will try out the following models:\n",
    "- decision trees\n",
    "- random forests\n",
    "- logistic regression (multinomial)\n",
    "\n",
    "Our target variable: comfortable_discussing_with_supervisor"
   ]
  },
  {
   "cell_type": "markdown",
   "metadata": {
    "cell_id": "00035-fac008e9-5e91-4538-b15c-82316fe06e76",
    "deepnote_cell_type": "markdown",
    "tags": []
   },
   "source": [
    "Split into X and y data, where X has all feature columns and y has target column, which is 'comfortable_discussing_with_supervisor'"
   ]
  },
  {
   "cell_type": "code",
   "execution_count": 21,
   "metadata": {
    "cell_id": "00057-63b71e41-a5bd-45e5-9918-0bd5f01d2d14",
    "deepnote_cell_type": "code",
    "execution_millis": 0,
    "execution_start": 1607107822636,
    "output_cleared": false,
    "source_hash": "7b81c54a",
    "tags": []
   },
   "outputs": [],
   "source": [
    "X = encoded_df_6789.loc[:, encoded_df_6789.columns!='comfortable_discussing_with_supervisor']\n",
    "y = encoded_df_6789.loc[:, 'comfortable_discussing_with_supervisor']\n"
   ]
  },
  {
   "cell_type": "markdown",
   "metadata": {
    "cell_id": "00037-ac15ceb4-6ec0-4ce8-a707-d7c418af15a0",
    "deepnote_cell_type": "markdown",
    "tags": []
   },
   "source": [
    "Split into train and test data, with 80% train and 20% test"
   ]
  },
  {
   "cell_type": "code",
   "execution_count": 22,
   "metadata": {
    "cell_id": "00074-a612fe69-c0e9-4509-933b-b39ddc624d79",
    "deepnote_cell_type": "code",
    "execution_millis": 3,
    "execution_start": 1607107828110,
    "output_cleared": false,
    "source_hash": "9c893c1c",
    "tags": []
   },
   "outputs": [],
   "source": [
    "X_train, X_test, y_train, y_test = train_test_split(X, y, test_size=0.2, random_state=0) "
   ]
  },
  {
   "cell_type": "markdown",
   "metadata": {
    "cell_id": "00039-02f458c3-6473-4588-b3f4-d9e6acc791b7",
    "deepnote_cell_type": "markdown",
    "tags": []
   },
   "source": [
    "Run the first model: Logistic Regression "
   ]
  },
  {
   "cell_type": "code",
   "execution_count": 23,
   "metadata": {
    "cell_id": "00076-b39e29c4-72e6-4add-9027-90385681f23a",
    "deepnote_cell_type": "code",
    "execution_millis": 16,
    "execution_start": 1607107833976,
    "output_cleared": false,
    "source_hash": "38f6d6c0",
    "tags": []
   },
   "outputs": [
    {
     "name": "stdout",
     "output_type": "stream",
     "text": [
      "Test Data Overall Accuracy:  0.5887850467289719\n"
     ]
    }
   ],
   "source": [
    "lr = LogisticRegression(random_state=0, tol=0.015, penalty='l1', solver = \"liblinear\")\n",
    "lr.fit(X_train, y_train)\n",
    "preds = lr.predict(X_test)\n",
    "\n",
    "print(\"Test Data Overall Accuracy: \", lr.score(X_test, y_test))"
   ]
  },
  {
   "cell_type": "code",
   "execution_count": 24,
   "metadata": {
    "cell_id": "00077-94a73580-6d46-4019-93b7-c6e15c2be949",
    "deepnote_cell_type": "code",
    "execution_millis": 1,
    "execution_start": 1607107852000,
    "output_cleared": false,
    "source_hash": "7c34c89",
    "tags": []
   },
   "outputs": [
    {
     "name": "stdout",
     "output_type": "stream",
     "text": [
      "              precision    recall  f1-score   support\n",
      "\n",
      "           0       0.59      0.63      0.61       117\n",
      "           1       0.82      0.60      0.69       219\n",
      "           2       0.33      0.51      0.40        92\n",
      "\n",
      "    accuracy                           0.59       428\n",
      "   macro avg       0.58      0.58      0.57       428\n",
      "weighted avg       0.65      0.59      0.61       428\n",
      "\n"
     ]
    }
   ],
   "source": [
    "print(classification_report(preds, y_test))"
   ]
  },
  {
   "cell_type": "markdown",
   "metadata": {
    "cell_id": "00042-7447f66e-593c-4f1d-b71a-57b738e1ba43",
    "deepnote_cell_type": "markdown",
    "tags": []
   },
   "source": [
    "Accuracy for Logistic Regression is very high. Let's run our second model type: Decision Trees"
   ]
  },
  {
   "cell_type": "code",
   "execution_count": 25,
   "metadata": {
    "cell_id": "00080-a04d45f8-de87-49cf-be42-4c5cff8f1d73",
    "deepnote_cell_type": "code",
    "execution_millis": 16,
    "execution_start": 1607107855186,
    "output_cleared": false,
    "source_hash": "b7a19e99",
    "tags": []
   },
   "outputs": [
    {
     "name": "stdout",
     "output_type": "stream",
     "text": [
      "Accuracy: 0.5397196261682243\n"
     ]
    }
   ],
   "source": [
    "dtc = DecisionTreeClassifier(criterion='entropy', min_samples_split=8, random_state=0)\n",
    "dtc.fit(X_train, y_train)\n",
    "print ('Accuracy:', dtc.score(X_test, y_test))\n"
   ]
  },
  {
   "cell_type": "markdown",
   "metadata": {
    "cell_id": "00044-c797db42-f96d-409c-9b56-bb5e50a40d72",
    "deepnote_cell_type": "markdown",
    "tags": []
   },
   "source": [
    "Let's try out a random forest classifier next to see if our accuracy improves with more estimators."
   ]
  },
  {
   "cell_type": "code",
   "execution_count": 26,
   "metadata": {
    "cell_id": "00081-6014ac04-c4d7-400a-a488-ffcb33b4148d",
    "deepnote_cell_type": "code",
    "execution_millis": 154,
    "execution_start": 1607107860499,
    "output_cleared": false,
    "source_hash": "e715291c",
    "tags": []
   },
   "outputs": [
    {
     "data": {
      "text/plain": [
       "0.6214953271028038"
      ]
     },
     "execution_count": 26,
     "metadata": {},
     "output_type": "execute_result"
    }
   ],
   "source": [
    "clf = RandomForestClassifier(n_estimators=50, random_state=0, min_samples_split= 2)  \n",
    "clf.fit(X_train, y_train) \n",
    "clf.score(X_test,y_test) \n",
    "\n"
   ]
  },
  {
   "cell_type": "markdown",
   "metadata": {
    "cell_id": "00046-0599bf21-b3c0-41b5-9214-4ccb2378de3e",
    "deepnote_cell_type": "markdown",
    "tags": []
   },
   "source": [
    "Let's take a look at the features and their respective importance for the Random Forest model. We will represent the importances with a horizontal bar plot"
   ]
  },
  {
   "cell_type": "code",
   "execution_count": 28,
   "metadata": {
    "cell_id": "00083-1d88c195-4708-4ec2-8719-cbf28c1992c7",
    "deepnote_cell_type": "code",
    "execution_millis": 425,
    "execution_start": 1607107875576,
    "output_cleared": false,
    "source_hash": "b354d3b4",
    "tags": []
   },
   "outputs": [
    {
     "data": {
      "image/png": "[encoded data removed]",
      "text/plain": [
       "<Figure size 1152x576 with 1 Axes>"
      ]
     },
     "metadata": {
      "needs_background": "light"
     },
     "output_type": "display_data"
    }
   ],
   "source": [
    "feat_impt = list(clf.feature_importances_)\n",
    "\n",
    "y_df = pd.DataFrame({\"Feature\":X.columns,\"Importance\":feat_impt})\n",
    "y_sort_df = y_df.sort_values(\"Importance\")\n",
    "dim = (16,8)\n",
    "fig = plt.figure(figsize=dim)\n",
    "ax1 = fig.add_subplot(111)\n",
    "\n",
    "y_sort_df.plot(kind='barh',ax=ax1,x=\"Feature\",y=\"Importance\")\n",
    "\n",
    "ax1.set_title(\"Willingess to Discuss with Supervisor: Feature Importance\")\n",
    "ax1.set_ylabel(\"Feature\")\n",
    "ax1.set_xlabel(\"Importance\")\n",
    "\n",
    "plt.show()"
   ]
  },
  {
   "cell_type": "markdown",
   "metadata": {
    "cell_id": "00048-b4cc8f58-e152-4b07-9335-047653d37ab0",
    "deepnote_cell_type": "markdown",
    "tags": []
   },
   "source": [
    "Here's a correlation plot to determine whether features are collinear/strongly related to one another"
   ]
  },
  {
   "cell_type": "code",
   "execution_count": 29,
   "metadata": {
    "cell_id": "00084-dc94575d-fb42-4872-8244-9f5c7a867ba3",
    "deepnote_cell_type": "code",
    "execution_millis": 1060,
    "execution_start": 1607107879320,
    "output_cleared": false,
    "source_hash": "ef167e24",
    "tags": []
   },
   "outputs": [
    {
     "data": {
      "image/png": "[encoded data removed]",
      "text/plain": [
       "<Figure size 1152x1152 with 2 Axes>"
      ]
     },
     "metadata": {
      "needs_background": "light"
     },
     "output_type": "display_data"
    }
   ],
   "source": [
    "corr = X.corr() \n",
    "fig = plt.figure(figsize=(16,16))\n",
    "ax = fig.add_subplot(111)\n",
    "cax = ax.matshow(corr,vmin=-1,vmax=1,\n",
    "                 cmap=sns.diverging_palette(10, 500, as_cmap=True))\n",
    "fig.colorbar(cax)\n",
    "names = X.columns\n",
    "ticks = np.arange(0,len(names),1)\n",
    "ax.set_xticks(ticks)\n",
    "ax.set_yticks(ticks)\n",
    "ax.set_xticklabels(names,rotation='vertical')\n",
    "ax.set_yticklabels(names)\n",
    "ax.set_title(\"Correlation Matrix of Features\",y=1.2)\n",
    "\n",
    "plt.show()"
   ]
  },
  {
   "cell_type": "markdown",
   "metadata": {
    "cell_id": "00050-dd8ba49c-64d5-4697-ad4f-4382196937e0",
    "deepnote_cell_type": "markdown",
    "tags": []
   },
   "source": [
    "We want to take a look at our target variable to see what the class distribution is. We also look at gender to see how balanced or not it is."
   ]
  },
  {
   "cell_type": "code",
   "execution_count": 30,
   "metadata": {
    "cell_id": "00086-9b3f4c18-cdba-4f4d-b972-a3b7bbf2b808",
    "deepnote_cell_type": "code",
    "execution_millis": 3,
    "execution_start": 1607107887035,
    "output_cleared": false,
    "source_hash": "48230fb1",
    "tags": []
   },
   "outputs": [
    {
     "data": {
      "text/plain": [
       "1    835\n",
       "2    703\n",
       "0    600\n",
       "Name: comfortable_discussing_with_supervisor, dtype: int64"
      ]
     },
     "execution_count": 30,
     "metadata": {},
     "output_type": "execute_result"
    }
   ],
   "source": [
    "encoded_df_6789['comfortable_discussing_with_supervisor'].value_counts()"
   ]
  },
  {
   "cell_type": "code",
   "execution_count": 31,
   "metadata": {
    "cell_id": "00087-df9b5996-07a7-4ab9-aa92-8f5decbbac5c",
    "deepnote_cell_type": "code",
    "execution_millis": 8,
    "execution_start": 1607107892932,
    "output_cleared": false,
    "source_hash": "cadfc908",
    "tags": []
   },
   "outputs": [
    {
     "data": {
      "text/plain": [
       "0    1627\n",
       "1     434\n",
       "2      31\n",
       "5      23\n",
       "4      14\n",
       "3       5\n",
       "7       2\n",
       "6       2\n",
       "Name: gender, dtype: int64"
      ]
     },
     "execution_count": 31,
     "metadata": {},
     "output_type": "execute_result"
    }
   ],
   "source": [
    "encoded_df_6789[\"gender\"].value_counts()"
   ]
  },
  {
   "cell_type": "markdown",
   "metadata": {
    "cell_id": "00053-82672d0a-6b7b-44a0-aaf9-584f3f36b5a7",
    "deepnote_cell_type": "markdown",
    "tags": []
   },
   "source": [
    "We found that the gender category values are very distinct from one another, with a significantly larger number of male responses in comparison with other races. Also, gender is not a very important feature based on the feature importance visualization, so we would like to see whether the models perform better with the elimination of gender. "
   ]
  },
  {
   "cell_type": "code",
   "execution_count": 32,
   "metadata": {
    "cell_id": "00088-2ea348d9-9fee-46f2-9fee-b488d9c39f87",
    "deepnote_cell_type": "code",
    "execution_millis": 0,
    "execution_start": 1607107898142,
    "output_cleared": false,
    "source_hash": "8d7cd68a",
    "tags": []
   },
   "outputs": [],
   "source": [
    "Xcopy = X.copy()\n",
    "Xcopy = Xcopy.drop(columns=['gender'])\n",
    "ycopy = y.copy()\n",
    "\n",
    "Xcopy_train, Xcopy_test, ycopy_train, ycopy_test = train_test_split(Xcopy, ycopy, test_size=0.2, random_state=0) \n"
   ]
  },
  {
   "cell_type": "markdown",
   "metadata": {
    "cell_id": "00055-61e6ea45-544e-42a7-9330-bff5c7a54cfa",
    "deepnote_cell_type": "markdown",
    "tags": []
   },
   "source": [
    "Let's try out the same models (Logistic Regression, Decision Tree, Random Forests) with this new data that does not include gender."
   ]
  },
  {
   "cell_type": "markdown",
   "metadata": {
    "cell_id": "00056-4f2f4bfd-d5be-4431-b3e0-222d0f8f44ad",
    "deepnote_cell_type": "markdown",
    "tags": []
   },
   "source": [
    "##### Logistic Regression"
   ]
  },
  {
   "cell_type": "code",
   "execution_count": 34,
   "metadata": {
    "cell_id": "00057-1c19188a-43b9-40a7-971d-fd84b098b86c",
    "deepnote_cell_type": "code",
    "execution_millis": 16,
    "execution_start": 1607107901555,
    "output_cleared": false,
    "source_hash": "e3a178e",
    "tags": []
   },
   "outputs": [
    {
     "name": "stdout",
     "output_type": "stream",
     "text": [
      "Test Data Overall Accuracy (L1 Regularization With Strength 0.001 ): 0.5864485981308412\n"
     ]
    }
   ],
   "source": [
    "strength = 0.001\n",
    "lr_1 = LogisticRegression(C=1/strength, solver=\"liblinear\", multi_class=\"ovr\", penalty=\"l1\", tol=0.015)\n",
    "lr_1.fit(Xcopy_train, ycopy_train)\n",
    "preds = lr_1.predict(Xcopy_test)\n",
    "\n",
    "print(\"Test Data Overall Accuracy (L1 Regularization With Strength\", strength, \"):\", lr_1.score(Xcopy_test, ycopy_test))\n"
   ]
  },
  {
   "cell_type": "code",
   "execution_count": 35,
   "metadata": {
    "cell_id": "00090-19653cb7-339b-461d-9b45-32053769894e",
    "deepnote_cell_type": "code",
    "execution_millis": 101,
    "execution_start": 1607107906059,
    "output_cleared": false,
    "source_hash": "75548249",
    "tags": []
   },
   "outputs": [
    {
     "name": "stdout",
     "output_type": "stream",
     "text": [
      "Test Data Overall Accuracy (L2 Regularization): 0.37149532710280375\n"
     ]
    }
   ],
   "source": [
    "lr_2 = LogisticRegression(C=1/0.5, random_state=0, tol=0.015)\n",
    "lr_2.fit(Xcopy_train, ycopy_train)\n",
    "preds = lr_2.predict(Xcopy_test)\n",
    "\n",
    "print(\"Test Data Overall Accuracy (L2 Regularization):\", lr_2.score(Xcopy_test, ycopy_test))"
   ]
  },
  {
   "cell_type": "markdown",
   "metadata": {
    "cell_id": "00059-2abba16d-5a97-4bac-9e73-0b1fd0371efb",
    "deepnote_cell_type": "markdown",
    "tags": []
   },
   "source": [
    "##### Decision Trees"
   ]
  },
  {
   "cell_type": "code",
   "execution_count": 36,
   "metadata": {
    "cell_id": "00091-f0b23b95-8e5b-4ba3-a047-6a17fe252edb",
    "deepnote_cell_type": "code",
    "execution_millis": 1,
    "execution_start": 1607107912232,
    "output_cleared": false,
    "source_hash": "ab9322cd",
    "tags": []
   },
   "outputs": [
    {
     "name": "stdout",
     "output_type": "stream",
     "text": [
      "Accuracy: 0.5093457943925234\n"
     ]
    }
   ],
   "source": [
    "dtc_2 = DecisionTreeClassifier(criterion='gini', min_samples_split=8, random_state=0)\n",
    "dtc_2.fit(Xcopy_train, ycopy_train)\n",
    "print ('Accuracy:', dtc_2.score(Xcopy_test, ycopy_test))"
   ]
  },
  {
   "cell_type": "markdown",
   "metadata": {
    "cell_id": "00061-e87a64d4-e332-4a43-84af-396617ed734a",
    "deepnote_cell_type": "markdown",
    "tags": []
   },
   "source": [
    "##### Random Forest"
   ]
  },
  {
   "cell_type": "code",
   "execution_count": 37,
   "metadata": {
    "cell_id": "00092-b1d718e6-67b8-43fe-a48d-96a4240d3b2a",
    "deepnote_cell_type": "code",
    "execution_millis": 343,
    "execution_start": 1607107915850,
    "output_cleared": false,
    "source_hash": "54203942",
    "tags": []
   },
   "outputs": [
    {
     "data": {
      "text/plain": [
       "0.6238317757009346"
      ]
     },
     "execution_count": 37,
     "metadata": {},
     "output_type": "execute_result"
    }
   ],
   "source": [
    "clf_2 = RandomForestClassifier(n_estimators=100, criterion = 'gini', random_state=0)  \n",
    "clf_2.fit(Xcopy_train, ycopy_train) \n",
    "clf_2.score(Xcopy_test,ycopy_test) "
   ]
  },
  {
   "cell_type": "markdown",
   "metadata": {
    "cell_id": "00063-85b88b45-0eb4-4e6c-b4ef-1b942488e375",
    "deepnote_cell_type": "markdown",
    "tags": []
   },
   "source": [
    "Let's look at the feature importances:"
   ]
  },
  {
   "cell_type": "code",
   "execution_count": 38,
   "metadata": {
    "cell_id": "00060-6cc6c577-85b3-4dd7-9911-e62b21ced7ff",
    "deepnote_cell_type": "code",
    "execution_millis": 429,
    "execution_start": 1607107923375,
    "output_cleared": false,
    "source_hash": "2519b11e",
    "tags": []
   },
   "outputs": [
    {
     "data": {
      "image/png": "[encoded data removed]",
      "text/plain": [
       "<Figure size 1152x576 with 1 Axes>"
      ]
     },
     "metadata": {
      "needs_background": "light"
     },
     "output_type": "display_data"
    }
   ],
   "source": [
    "feat_impt_2 = list(clf_2.feature_importances_)\n",
    "\n",
    "y_df_2 = pd.DataFrame({\"Feature\":Xcopy.columns,\"Importance\":feat_impt_2})\n",
    "y_sort_df_2 = y_df_2.sort_values(\"Importance\")\n",
    "dim = (16,8)\n",
    "fig_2 = plt.figure(figsize=dim)\n",
    "ax2 = fig_2.add_subplot(111)\n",
    "\n",
    "y_sort_df_2.plot(kind='barh',ax=ax2,x=\"Feature\",y=\"Importance\")\n",
    "\n",
    "ax2.set_title(\"Willingess to Discuss with Supervisor: Feature Importance\")\n",
    "ax2.set_ylabel(\"Feature\")\n",
    "ax2.set_xlabel(\"Importance\")\n",
    "\n",
    "plt.show()"
   ]
  },
  {
   "cell_type": "markdown",
   "metadata": {
    "cell_id": "00061-628c0036-8cab-4fa6-b88b-ae79fa92791e",
    "deepnote_cell_type": "markdown",
    "tags": []
   },
   "source": [
    "Currently we are using every feature in our models. There is a chance that the models may be overfitting due to the high amount of features. Let's try feature selecting to get the most important features for our model and use this data instead. We will use the scikit learn function `SelectKBest` to determine what the best features are. We run the following code chunk which uses different score functions and tests out different \"k\" values for a random forest classifier, to see what combination gets the best accuracy."
   ]
  },
  {
   "cell_type": "code",
   "execution_count": 39,
   "metadata": {
    "cell_id": "00061-a3c46ff0-79db-473b-8d53-f37ea2f3601b",
    "deepnote_cell_type": "code",
    "execution_millis": 26616,
    "execution_start": 1607109639964,
    "output_cleared": false,
    "source_hash": "7d80eb15",
    "tags": []
   },
   "outputs": [
    {
     "name": "stdout",
     "output_type": "stream",
     "text": [
      "Accuracy for k = 15 and c = f_classif 0.6051401869158879\n",
      "Accuracy for k = 15 and c = mutual_info_classif 0.6098130841121495\n",
      "Accuracy for k = 15 and c = f_regression 0.6214953271028038\n",
      "Accuracy for k = 15 and c = mutual_info_regression 0.5957943925233645\n",
      "Accuracy for k = 16 and c = f_classif 0.6121495327102804\n",
      "Accuracy for k = 16 and c = mutual_info_classif 0.5864485981308412\n",
      "Accuracy for k = 16 and c = f_regression 0.6214953271028038\n",
      "Accuracy for k = 16 and c = mutual_info_regression 0.5934579439252337\n",
      "Accuracy for k = 17 and c = f_classif 0.5934579439252337\n",
      "Accuracy for k = 17 and c = mutual_info_classif 0.6144859813084113\n",
      "Accuracy for k = 17 and c = f_regression 0.6074766355140186\n",
      "Accuracy for k = 17 and c = mutual_info_regression 0.6121495327102804\n",
      "Accuracy for k = 18 and c = f_classif 0.6308411214953271\n",
      "Accuracy for k = 18 and c = mutual_info_classif 0.6074766355140186\n",
      "Accuracy for k = 18 and c = f_regression 0.6191588785046729\n",
      "Accuracy for k = 18 and c = mutual_info_regression 0.633177570093458\n",
      "Accuracy for k = 19 and c = f_classif 0.6214953271028038\n",
      "Accuracy for k = 19 and c = mutual_info_classif 0.6214953271028038\n",
      "Accuracy for k = 19 and c = f_regression 0.6144859813084113\n",
      "Accuracy for k = 19 and c = mutual_info_regression 0.602803738317757\n",
      "Accuracy for k = 20 and c = f_classif 0.6214953271028038\n",
      "Accuracy for k = 20 and c = mutual_info_classif 0.6285046728971962\n",
      "Accuracy for k = 20 and c = f_regression 0.6098130841121495\n",
      "Accuracy for k = 20 and c = mutual_info_regression 0.6051401869158879\n",
      "Accuracy for k = 21 and c = f_classif 0.6074766355140186\n",
      "Accuracy for k = 21 and c = mutual_info_classif 0.6238317757009346\n",
      "Accuracy for k = 21 and c = f_regression 0.6238317757009346\n",
      "Accuracy for k = 21 and c = mutual_info_regression 0.6285046728971962\n",
      "Accuracy for k = 22 and c = f_classif 0.6004672897196262\n",
      "Accuracy for k = 22 and c = mutual_info_classif 0.6144859813084113\n",
      "Accuracy for k = 22 and c = f_regression 0.6098130841121495\n",
      "Accuracy for k = 22 and c = mutual_info_regression 0.6261682242990654\n",
      "Accuracy for k = 23 and c = f_classif 0.5934579439252337\n",
      "Accuracy for k = 23 and c = mutual_info_classif 0.5887850467289719\n",
      "Accuracy for k = 23 and c = f_regression 0.602803738317757\n",
      "Accuracy for k = 23 and c = mutual_info_regression 0.6285046728971962\n",
      "Accuracy for k = 24 and c = f_classif 0.6191588785046729\n",
      "Accuracy for k = 24 and c = mutual_info_classif 0.6121495327102804\n",
      "Accuracy for k = 24 and c = f_regression 0.6144859813084113\n",
      "Accuracy for k = 24 and c = mutual_info_regression 0.6144859813084113\n"
     ]
    }
   ],
   "source": [
    "d_score_func = {'f_classif':f_classif, \n",
    "              'mutual_info_classif':mutual_info_classif, \n",
    "              'f_regression':f_regression,\n",
    "              'mutual_info_regression':mutual_info_regression}\n",
    "scores = []\n",
    "for k in range(15, 25):\n",
    "    for c in d_score_func.keys():\n",
    "        selectkbest = SelectKBest(score_func = d_score_func[c], k=k)\n",
    "        X_top_train = selectkbest.fit_transform(Xcopy_train, ycopy_train)\n",
    "        X_top_test = selectkbest.transform(Xcopy_test)\n",
    "        rf_top = RandomForestClassifier(n_estimators=150, criterion = 'gini', random_state=0)  \n",
    "        rf_top.fit(X_top_train, ycopy_train) \n",
    "        score = rf_top.score(X_top_test, ycopy_test) \n",
    "        scores.append(score)\n",
    "        print(\"Accuracy for k = %d and c = %s\" %(k,c), score)"
   ]
  },
  {
   "cell_type": "code",
   "execution_count": 41,
   "metadata": {
    "cell_id": "00062-c8930f4f-faa5-4a6a-a65c-a6272fe7a9ff",
    "deepnote_cell_type": "code",
    "execution_millis": 0,
    "execution_start": 1607109670446,
    "output_cleared": false,
    "source_hash": "f3f7c1a1",
    "tags": []
   },
   "outputs": [
    {
     "data": {
      "text/plain": [
       "0.633177570093458"
      ]
     },
     "execution_count": 41,
     "metadata": {},
     "output_type": "execute_result"
    }
   ],
   "source": [
    "max(scores)"
   ]
  },
  {
   "cell_type": "markdown",
   "metadata": {
    "cell_id": "00063-f8d8fc2c-ef39-4772-9e83-bffa8cb782cc",
    "deepnote_cell_type": "markdown",
    "tags": []
   },
   "source": [
    "The highest accuracy of approximately 0.64 had attributes where k = 24 and c = mutual_info_classif.\n"
   ]
  },
  {
   "cell_type": "markdown",
   "metadata": {
    "cell_id": "00070-250c6b3a-f2dd-415f-9db1-f899129fa370",
    "deepnote_cell_type": "markdown",
    "tags": []
   },
   "source": [
    "Run a GridSearch to determine which set of random forest parameters would result in the highest accuracy"
   ]
  },
  {
   "cell_type": "code",
   "execution_count": 42,
   "metadata": {
    "cell_id": "00062-8573c24d-ab00-497a-8dea-e51d9a92c251",
    "deepnote_cell_type": "code",
    "execution_millis": 148189,
    "execution_start": 1606973301568,
    "output_cleared": false,
    "source_hash": "877cb83b",
    "tags": []
   },
   "outputs": [
    {
     "name": "stdout",
     "output_type": "stream",
     "text": [
      "0.6093567251461989\n"
     ]
    }
   ],
   "source": [
    "parameters = {'criterion': [\"gini\", \"entropy\"], \n",
    "              'n_estimators':[20, 30, 40, 50, 100, 150, 200],\n",
    "              'max_features' : [\"auto\", \"sqrt\", \"log2\"],\n",
    "              'min_samples_split' : [2, 3, 4],\n",
    "              'random_state': [0]}\n",
    "              \n",
    "grid_search = GridSearchCV(clf, parameters, cv = 5)\n",
    "grid_search.fit(X_train, y_train)\n",
    "scores = grid_search.cv_results_['mean_test_score']\n",
    "print(max(scores))"
   ]
  },
  {
   "cell_type": "code",
   "execution_count": 43,
   "metadata": {
    "cell_id": "00064-32d9658b-37c5-4d2b-afb9-d5e462734012",
    "deepnote_cell_type": "code",
    "execution_millis": 0,
    "execution_start": 1606973963905,
    "output_cleared": false,
    "source_hash": "a1a4c7a0",
    "tags": []
   },
   "outputs": [
    {
     "name": "stdout",
     "output_type": "stream",
     "text": [
      "{'criterion': 'entropy', 'max_features': 'auto', 'min_samples_split': 2, 'n_estimators': 200, 'random_state': 0}\n"
     ]
    }
   ],
   "source": [
    "print(grid_search.best_params_)"
   ]
  },
  {
   "cell_type": "markdown",
   "metadata": {
    "cell_id": "00064-04706c1d-6430-4ad3-800c-5e4149801bed",
    "deepnote_cell_type": "markdown",
    "tags": []
   },
   "source": [
    "After GridSearch, we find that our best accuracy is around 60%. We would like to do better so we can try some other methods. Ideally, our model accuracy would improve if we had more data to work with. We will try resampling our data to get more values to use."
   ]
  },
  {
   "cell_type": "code",
   "execution_count": 44,
   "metadata": {
    "cell_id": "00096-a6f0dec0-fda4-4e4f-80e7-b44eb1216442",
    "deepnote_cell_type": "code",
    "execution_millis": 34,
    "execution_start": 1607319217786,
    "output_cleared": false,
    "scrolled": true,
    "source_hash": "f7f637fc",
    "tags": []
   },
   "outputs": [
    {
     "data": {
      "image/png": "[encoded data removed]",
      "text/plain": [
       "<Figure size 432x432 with 1 Axes>"
      ]
     },
     "metadata": {},
     "output_type": "display_data"
    }
   ],
   "source": [
    "labels = ['Yes', 'Maybe' , 'No']\n",
    "sizes =encoded_df_6789['comfortable_discussing_with_supervisor'].value_counts(normalize = True)\n",
    "plt.figure(figsize=(6,6))\n",
    "plt.title('Distribution of Target Variable Answers')\n",
    "plt.pie(sizes, labels=labels, autopct='%1.0f%%')\n",
    "plt.show()"
   ]
  },
  {
   "cell_type": "markdown",
   "metadata": {
    "cell_id": "00098-3850692f-bb50-442e-8068-e8b992fc3f29",
    "deepnote_cell_type": "markdown",
    "tags": []
   },
   "source": [
    "Since we have a relatively even distribution of each class in our target variable, we can resample our data as a whole rather than just by classes."
   ]
  },
  {
   "cell_type": "markdown",
   "metadata": {},
   "source": [
    "#### Resample Data as a Whole"
   ]
  },
  {
   "cell_type": "markdown",
   "metadata": {
    "cell_id": "00072-3f3aea99-2965-4992-a377-b30f6a38b937",
    "deepnote_cell_type": "markdown",
    "tags": []
   },
   "source": [
    "Resample the data as a whole, separate input features and target variable, build random forest classifier, show score"
   ]
  },
  {
   "cell_type": "code",
   "execution_count": 45,
   "metadata": {
    "cell_id": "00073-b419c709-3d67-47a8-aecf-d4c798ed3729",
    "deepnote_cell_type": "code",
    "tags": []
   },
   "outputs": [
    {
     "data": {
      "text/plain": [
       "0.9065420560747663"
      ]
     },
     "execution_count": 45,
     "metadata": {},
     "output_type": "execute_result"
    }
   ],
   "source": [
    "df_all_resampled = resample(encoded_df_6789, replace=True, n_samples=2138*2, random_state=0) \n",
    "\n",
    "df_all_y_resampled = df_all_resampled.comfortable_discussing_with_supervisor\n",
    "df_all_X_resampled = df_all_resampled.drop('comfortable_discussing_with_supervisor', axis=1)\n",
    "X_train_all, X_test_all, y_train_all, y_test_all = train_test_split(df_all_X_resampled, df_all_y_resampled, test_size=0.2, random_state=0)\n",
    "\n",
    "clf_2_all = RandomForestClassifier(criterion = 'entropy', n_estimators = 200, random_state = 0)  \n",
    "clf_2_all.fit(X_train_all, y_train_all) \n",
    "clf_2_all.score(X_test_all,y_test_all) "
   ]
  },
  {
   "cell_type": "markdown",
   "metadata": {
    "cell_id": "00073-1209dec2-38b8-4701-8e12-09806d0f2ba8",
    "deepnote_cell_type": "markdown",
    "tags": []
   },
   "source": [
    "Show distribution of classes when resampling the data as a whole"
   ]
  },
  {
   "cell_type": "code",
   "execution_count": 46,
   "metadata": {
    "cell_id": "00074-c150b837-cad8-47e6-ac2d-acb54ed2bed2",
    "deepnote_cell_type": "code",
    "tags": []
   },
   "outputs": [
    {
     "data": {
      "text/plain": [
       "1    1675\n",
       "2    1372\n",
       "0    1229\n",
       "Name: comfortable_discussing_with_supervisor, dtype: int64"
      ]
     },
     "execution_count": 46,
     "metadata": {},
     "output_type": "execute_result"
    }
   ],
   "source": [
    "df_all_resampled['comfortable_discussing_with_supervisor'].value_counts()"
   ]
  },
  {
   "cell_type": "markdown",
   "metadata": {
    "cell_id": "00099-db100466-74de-4ca8-a177-2c30a42d334f",
    "deepnote_cell_type": "markdown",
    "tags": []
   },
   "source": [
    "Grid Search for Random Forests on resampled data:"
   ]
  },
  {
   "cell_type": "code",
   "execution_count": 47,
   "metadata": {
    "cell_id": "00090-f4f68fa5-12c2-40ef-b459-8850ab8983c5",
    "deepnote_cell_type": "code",
    "execution_millis": 173649,
    "execution_start": 1607300182338,
    "output_cleared": true,
    "source_hash": null,
    "tags": []
   },
   "outputs": [],
   "source": [
    "#GridSearchCV\n",
    "parameters = {'criterion': [\"gini\", \"entropy\"], \n",
    "              'n_estimators':[20, 30, 40, 50, 100, 150, 200],\n",
    "              'max_features' : [\"auto\", \"sqrt\", \"log2\"],\n",
    "              'min_samples_split' : [2, 3, 4],\n",
    "              'random_state': [0]}\n",
    "              \n",
    "grid_search_all = GridSearchCV(clf_2_all, parameters, cv = 5)\n",
    "grid_search_all.fit(X_train_all, y_train_all)\n",
    "scores_all = grid_search_all.cv_results_['mean_test_score']"
   ]
  },
  {
   "cell_type": "markdown",
   "metadata": {
    "cell_id": "00102-0a01dbfc-ef91-4ad4-b6f9-d38e3611339d",
    "deepnote_cell_type": "markdown",
    "tags": []
   },
   "source": [
    "Highest accuracy and best parameters obtained from gridsearch:"
   ]
  },
  {
   "cell_type": "code",
   "execution_count": 48,
   "metadata": {
    "cell_id": "00093-9512921e-dd03-423b-b9a5-ed00c77bd455",
    "deepnote_cell_type": "code",
    "execution_millis": 1,
    "execution_start": 1607300425048,
    "output_cleared": false,
    "source_hash": "76e5f2d0",
    "tags": []
   },
   "outputs": [
    {
     "name": "stdout",
     "output_type": "stream",
     "text": [
      "{'criterion': 'gini', 'max_features': 'auto', 'min_samples_split': 3, 'n_estimators': 40, 'random_state': 0}\n",
      "Max accuracy:  0.8833333333333333\n"
     ]
    }
   ],
   "source": [
    "print(grid_search_all.best_params_)\n",
    "print('Max accuracy: ', max(scores_all))"
   ]
  },
  {
   "cell_type": "markdown",
   "metadata": {
    "cell_id": "00104-0d280a23-4627-408f-b788-e3c82790eb03",
    "deepnote_cell_type": "markdown",
    "tags": []
   },
   "source": [
    "Feature Importance for random forest classifier with Resampled Data:"
   ]
  },
  {
   "cell_type": "code",
   "execution_count": 49,
   "metadata": {
    "cell_id": "00093-e943b937-5428-4bb2-83fa-07a59ca0bf25",
    "deepnote_cell_type": "code",
    "execution_millis": 973,
    "execution_start": 1607300443402,
    "output_cleared": false,
    "source_hash": "4b7da8c6",
    "tags": []
   },
   "outputs": [
    {
     "data": {
      "image/png": "[encoded data removed]",
      "text/plain": [
       "<Figure size 1152x576 with 1 Axes>"
      ]
     },
     "metadata": {
      "needs_background": "light"
     },
     "output_type": "display_data"
    }
   ],
   "source": [
    "feat_impt_all = list(clf_2_all.feature_importances_)\n",
    "\n",
    "y_df_all = pd.DataFrame({\"Feature\":X_train_all.columns,\"Importance\":feat_impt_all})\n",
    "y_sort_df_all = y_df_all.sort_values(\"Importance\")\n",
    "dim = (16,8)\n",
    "fig_all = plt.figure(figsize=dim)\n",
    "ax_all = fig_all.add_subplot(111)\n",
    "\n",
    "y_sort_df_all.plot(kind='barh',ax=ax_all,x=\"Feature\",y=\"Importance\")\n",
    "\n",
    "ax_all.set_title(\"Willingess to Discuss with Supervisor: Feature Importance\")\n",
    "ax_all.set_ylabel(\"Feature\")\n",
    "ax_all.set_xlabel(\"Importance\")\n",
    "\n",
    "plt.show()"
   ]
  },
  {
   "cell_type": "markdown",
   "metadata": {
    "cell_id": "00106-3ec4c79b-4a2d-474d-bc5e-85cb69b92055",
    "deepnote_cell_type": "markdown",
    "tags": []
   },
   "source": [
    "Finding highest accuracy for different number of features:"
   ]
  },
  {
   "cell_type": "code",
   "execution_count": 50,
   "metadata": {
    "cell_id": "00095-43563a7b-b129-4ebf-8a9c-529c0eb24310",
    "deepnote_cell_type": "code",
    "execution_millis": 5149,
    "execution_start": 1607300987951,
    "output_cleared": false,
    "source_hash": "7d424e13",
    "tags": []
   },
   "outputs": [
    {
     "name": "stdout",
     "output_type": "stream",
     "text": [
      "Accuracy for k = 5 and c = f_classif 0.6612149532710281\n",
      "Accuracy for k = 10 and c = f_classif 0.866822429906542\n",
      "Accuracy for k = 11 and c = f_classif 0.8843457943925234\n",
      "Accuracy for k = 12 and c = f_classif 0.8761682242990654\n",
      "Accuracy for k = 13 and c = f_classif 0.8808411214953271\n",
      "Accuracy for k = 14 and c = f_classif 0.9088785046728972\n",
      "Accuracy for k = 15 and c = f_classif 0.9018691588785047\n",
      "Accuracy for k = 16 and c = f_classif 0.8936915887850467\n",
      "Accuracy for k = 17 and c = f_classif 0.8983644859813084\n",
      "Accuracy for k = 18 and c = f_classif 0.897196261682243\n",
      "Accuracy for k = 19 and c = f_classif 0.9077102803738317\n",
      "Accuracy for k = 20 and c = f_classif 0.8983644859813084\n",
      "Accuracy for k = 25 and c = f_classif 0.9077102803738317\n"
     ]
    }
   ],
   "source": [
    "list_k = [5,10,11,12,13,14,15,16,17,18,19,20,25]\n",
    "d_score_func = {'f_classif':f_classif}\n",
    "scores = []\n",
    "for k in list_k:\n",
    "    for c in d_score_func.keys():\n",
    "        selectkbest = SelectKBest(score_func = d_score_func[c], k=k)\n",
    "        X_top_train = selectkbest.fit_transform(X_train_all, y_train_all)\n",
    "        X_top_test = selectkbest.transform(X_test_all)\n",
    "        rf_top = RandomForestClassifier(n_estimators=40, min_samples_split = 3, criterion = 'gini', random_state=0)  \n",
    "        rf_top.fit(X_top_train, y_train_all) \n",
    "        score = rf_top.score(X_top_test, y_test_all) \n",
    "        scores.append(score)\n",
    "        print(\"Accuracy for k = %d and c = %s\" %(k,c), score)"
   ]
  },
  {
   "cell_type": "markdown",
   "metadata": {
    "cell_id": "00108-11f3b63a-79bf-4e73-af3d-b91fefca4545",
    "deepnote_cell_type": "markdown",
    "tags": []
   },
   "source": [
    "\n",
    "Highest accuracy and best number of features/metrics:\n",
    "\n",
    " k (number of features) = 14\n",
    "\n",
    " c = f_classif \n",
    " \n",
    " Accuracy: 0.9088785046728972\n"
   ]
  },
  {
   "cell_type": "code",
   "execution_count": 51,
   "metadata": {
    "cell_id": "00097-99294e81-3054-4102-9dbc-2662062c3cb3",
    "deepnote_cell_type": "code",
    "execution_millis": 141,
    "execution_start": 1607301112862,
    "output_cleared": false,
    "source_hash": "cbadbe0f",
    "tags": []
   },
   "outputs": [
    {
     "data": {
      "image/png": "[encoded data removed]",
      "text/plain": [
       "<Figure size 432x288 with 1 Axes>"
      ]
     },
     "metadata": {
      "needs_background": "light"
     },
     "output_type": "display_data"
    }
   ],
   "source": [
    "plt.plot(list_k, scores, color = 'navy')\n",
    "plt.title('Number of Features vs Accuracy')\n",
    "plt.xlabel('Number of Features')\n",
    "plt.ylabel('Accuracy')\n",
    "plt.show()"
   ]
  },
  {
   "cell_type": "markdown",
   "metadata": {
    "cell_id": "00110-793aaeaa-b822-4f5a-bbf4-c2e0d3d2e073",
    "deepnote_cell_type": "markdown",
    "tags": []
   },
   "source": [
    "After examining the feature importance matrix, it may be helpful for us to remove features of little importance. We can try various numbers of features, denoted by k below, and we would use the top k features and run several random forest models. SelectKBest allows us to subset our dataframe with k columns."
   ]
  },
  {
   "cell_type": "code",
   "execution_count": 52,
   "metadata": {
    "cell_id": "00099-886dfa34-f2b3-491b-a250-090054590b9e",
    "deepnote_cell_type": "code",
    "execution_millis": 67651,
    "execution_start": 1607301680174,
    "output_cleared": false,
    "source_hash": "6375a7ed",
    "tags": []
   },
   "outputs": [],
   "source": [
    "list_k = [5,10,11,12,13,14,15,16,17,18,19,20,25]\n",
    "d_score_func = {'f_classif':f_classif,\n",
    "                'mutual_info_classif' : mutual_info_classif,\n",
    "                 'f_regression' : f_regression,\n",
    "                 'mutual_info_regression' : mutual_info_regression}\n",
    "                 \n",
    "f_classif_scores = []\n",
    "mutual_info_classif_scores = []\n",
    "f_regression_scores = []\n",
    "mutual_info_regression_scores = []\n",
    "for k in list_k:\n",
    "    for c in d_score_func.keys():\n",
    "        selectkbest = SelectKBest(score_func = d_score_func[c], k=k)\n",
    "        X_top_train = selectkbest.fit_transform(X_train_all, y_train_all)\n",
    "        X_top_test = selectkbest.transform(X_test_all)\n",
    "        rf_top = RandomForestClassifier(n_estimators=40, min_samples_split = 3, criterion = 'gini', random_state=0)  \n",
    "        rf_top.fit(X_top_train, y_train_all)\n",
    "        if d_score_func[c] == f_classif:\n",
    "            score = rf_top.score(X_top_test, y_test_all) \n",
    "            f_classif_scores.append(score)\n",
    "        if d_score_func[c] == mutual_info_classif:\n",
    "            score = rf_top.score(X_top_test, y_test_all) \n",
    "            mutual_info_classif_scores.append(score)\n",
    "        if d_score_func[c] == f_regression:\n",
    "            score = rf_top.score(X_top_test, y_test_all) \n",
    "            f_regression_scores.append(score)\n",
    "        if d_score_func[c] == mutual_info_regression:\n",
    "            score = rf_top.score(X_top_test, y_test_all) \n",
    "            mutual_info_regression_scores.append(score)\n",
    "        \n",
    "\n"
   ]
  },
  {
   "cell_type": "code",
   "execution_count": 53,
   "metadata": {
    "cell_id": "00100-bd385486-de9d-46e3-b79e-58b514d50ef9",
    "deepnote_cell_type": "code",
    "execution_millis": 279,
    "execution_start": 1607302101245,
    "output_cleared": false,
    "source_hash": "80bf1dbb",
    "tags": []
   },
   "outputs": [
    {
     "data": {
      "image/png": "[encoded data removed]",
      "text/plain": [
       "<Figure size 432x288 with 1 Axes>"
      ]
     },
     "metadata": {
      "needs_background": "light"
     },
     "output_type": "display_data"
    }
   ],
   "source": [
    "#Plot of Number of Features vs Accuracy based on metric type \n",
    "plt.plot(list_k, f_classif_scores, label = 'f_classif')\n",
    "plt.plot(list_k, mutual_info_classif_scores, label = 'mutual_info_classif')\n",
    "plt.plot(list_k, f_regression_scores, label = 'f_regression')\n",
    "plt.plot(list_k, mutual_info_regression_scores, label = 'mutual_info_regression')\n",
    "plt.title('Number of Features vs Accuracy based on Metric Type')\n",
    "plt.legend()\n",
    "plt.xlabel('Number of Features')\n",
    "plt.ylabel('Accuracy')\n",
    "plt.show()"
   ]
  },
  {
   "cell_type": "code",
   "execution_count": 54,
   "metadata": {
    "cell_id": "00101-b307510a-7426-48d3-a97b-e1506feb84f8",
    "deepnote_cell_type": "code",
    "execution_millis": 108,
    "execution_start": 1607302653098,
    "output_cleared": false,
    "source_hash": "bef31b32",
    "tags": []
   },
   "outputs": [
    {
     "data": {
      "image/png": "[encoded data removed]",
      "text/plain": [
       "<Figure size 432x288 with 1 Axes>"
      ]
     },
     "metadata": {
      "needs_background": "light"
     },
     "output_type": "display_data"
    }
   ],
   "source": [
    "#Bar Plot of Average Accuracy based on Metric Type\n",
    "metric_category = ['f_classif', 'mutual_info_classif', 'f_regression', 'mutual_info_regression']\n",
    "scores_list = [f_classif_scores, mutual_info_classif_scores,  f_regression_scores, mutual_info_regression_scores]\n",
    "average_scores = []\n",
    "for scores in scores_list:\n",
    "    average_score = np.average(scores)\n",
    "    average_scores.append(average_score)\n",
    "plt.ylim(0.80, 0.95)\n",
    "plt.bar(metric_category, average_scores, color = 'purple')\n",
    "plt.xlabel('Metric Type')\n",
    "plt.xticks(rotation = 35)\n",
    "plt.ylabel('Accuracy')\n",
    "plt.title('Average Score per Metric Type')\n",
    "plt.show()\n",
    "\n"
   ]
  },
  {
   "cell_type": "markdown",
   "metadata": {},
   "source": [
    "#### Resample Data by Gender Categories"
   ]
  },
  {
   "cell_type": "code",
   "execution_count": 58,
   "metadata": {},
   "outputs": [],
   "source": [
    "dic_gender = {'Male':0, 'Female': 1, 'Nonbinary': 2, 'Trans Female': 3, 'Gender Fluid': 4, 'Other': 5, 'Trans Male': 6, 'Transgender':7}\n",
    "\n"
   ]
  },
  {
   "cell_type": "code",
   "execution_count": 60,
   "metadata": {
    "cell_id": "00101-25c9872b-556e-469d-950a-844111b82d01",
    "deepnote_cell_type": "code",
    "execution_millis": 89,
    "execution_start": 1607319610966,
    "output_cleared": false,
    "scrolled": true,
    "source_hash": "fff0f55d",
    "tags": []
   },
   "outputs": [
    {
     "data": {
      "text/html": [
       "<div>\n",
       "<style scoped>\n",
       "    .dataframe tbody tr th:only-of-type {\n",
       "        vertical-align: middle;\n",
       "    }\n",
       "\n",
       "    .dataframe tbody tr th {\n",
       "        vertical-align: top;\n",
       "    }\n",
       "\n",
       "    .dataframe thead th {\n",
       "        text-align: right;\n",
       "    }\n",
       "</style>\n",
       "<table border=\"1\" class=\"dataframe\">\n",
       "  <thead>\n",
       "    <tr style=\"text-align: right;\">\n",
       "      <th></th>\n",
       "      <th>Gender Category</th>\n",
       "      <th>Count</th>\n",
       "    </tr>\n",
       "  </thead>\n",
       "  <tbody>\n",
       "    <tr>\n",
       "      <td>0</td>\n",
       "      <td>Male</td>\n",
       "      <td>1627</td>\n",
       "    </tr>\n",
       "    <tr>\n",
       "      <td>1</td>\n",
       "      <td>Female</td>\n",
       "      <td>434</td>\n",
       "    </tr>\n",
       "    <tr>\n",
       "      <td>2</td>\n",
       "      <td>Nonbinary</td>\n",
       "      <td>31</td>\n",
       "    </tr>\n",
       "    <tr>\n",
       "      <td>3</td>\n",
       "      <td>Trans Female</td>\n",
       "      <td>23</td>\n",
       "    </tr>\n",
       "    <tr>\n",
       "      <td>4</td>\n",
       "      <td>Gender Fluid</td>\n",
       "      <td>14</td>\n",
       "    </tr>\n",
       "    <tr>\n",
       "      <td>5</td>\n",
       "      <td>Other</td>\n",
       "      <td>5</td>\n",
       "    </tr>\n",
       "    <tr>\n",
       "      <td>6</td>\n",
       "      <td>Trans Male</td>\n",
       "      <td>2</td>\n",
       "    </tr>\n",
       "    <tr>\n",
       "      <td>7</td>\n",
       "      <td>Transgender</td>\n",
       "      <td>2</td>\n",
       "    </tr>\n",
       "  </tbody>\n",
       "</table>\n",
       "</div>"
      ],
      "text/plain": [
       "  Gender Category  Count\n",
       "0            Male   1627\n",
       "1          Female    434\n",
       "2       Nonbinary     31\n",
       "3    Trans Female     23\n",
       "4    Gender Fluid     14\n",
       "5           Other      5\n",
       "6      Trans Male      2\n",
       "7     Transgender      2"
      ]
     },
     "execution_count": 60,
     "metadata": {},
     "output_type": "execute_result"
    }
   ],
   "source": [
    "df = pd.DataFrame({\"Gender Category\" : list(dic_gender.keys()), \"Count\" : encoded_df_6789['gender'].value_counts().tolist()})\n",
    "df"
   ]
  },
  {
   "cell_type": "markdown",
   "metadata": {
    "cell_id": "00114-7ce545b4-2d99-4a9a-a208-bda4ba98a96e",
    "deepnote_cell_type": "markdown",
    "tags": []
   },
   "source": [
    "Try different sample sizes to resample data by gender, separate input features and target variable, run random forest classifier, get score for each sample size"
   ]
  },
  {
   "cell_type": "code",
   "execution_count": 61,
   "metadata": {
    "cell_id": "00100-1eda9f7f-786f-451b-8dbd-10cb4b535c05",
    "deepnote_cell_type": "code",
    "execution_millis": 4986,
    "execution_start": 1607304287579,
    "output_cleared": false,
    "source_hash": "dae2804b",
    "tags": []
   },
   "outputs": [
    {
     "name": "stdout",
     "output_type": "stream",
     "text": [
      "1    77\n",
      "0    51\n",
      "2    32\n",
      "Name: comfortable_discussing_with_supervisor, dtype: int64\n",
      "Accuracy with n_samples = 20:  0.84375\n",
      "1    95\n",
      "0    65\n",
      "2    40\n",
      "Name: comfortable_discussing_with_supervisor, dtype: int64\n",
      "Accuracy with n_samples = 25:  0.825\n",
      "1    109\n",
      "0     80\n",
      "2     51\n",
      "Name: comfortable_discussing_with_supervisor, dtype: int64\n",
      "Accuracy with n_samples = 30:  0.9166666666666666\n",
      "1    192\n",
      "0    128\n",
      "2     80\n",
      "Name: comfortable_discussing_with_supervisor, dtype: int64\n",
      "Accuracy with n_samples = 50:  0.875\n",
      "1    232\n",
      "0    153\n",
      "2     95\n",
      "Name: comfortable_discussing_with_supervisor, dtype: int64\n",
      "Accuracy with n_samples = 60:  0.9479166666666666\n",
      "1    290\n",
      "0    192\n",
      "2    118\n",
      "Name: comfortable_discussing_with_supervisor, dtype: int64\n",
      "Accuracy with n_samples = 75:  0.875\n",
      "1    386\n",
      "0    262\n",
      "2    152\n",
      "Name: comfortable_discussing_with_supervisor, dtype: int64\n",
      "Accuracy with n_samples = 100:  0.93125\n",
      "1    779\n",
      "0    515\n",
      "2    306\n",
      "Name: comfortable_discussing_with_supervisor, dtype: int64\n",
      "Accuracy with n_samples = 200:  0.91875\n",
      "1    1529\n",
      "0    1027\n",
      "2     644\n",
      "Name: comfortable_discussing_with_supervisor, dtype: int64\n",
      "Accuracy with n_samples = 400:  0.9328125\n",
      "0.9479166666666666\n"
     ]
    }
   ],
   "source": [
    "num_samples = [20, 25, 30, 50, 60, 75, 100, 200, 400]\n",
    "scores_rf = []\n",
    "for samp in num_samples:\n",
    "        male = encoded_df_6789[encoded_df_6789['gender']==0]\n",
    "        female = encoded_df_6789[encoded_df_6789['gender']==1]\n",
    "        nonbinary = encoded_df_6789[encoded_df_6789['gender']==2]\n",
    "        trans_female = encoded_df_6789[encoded_df_6789['gender']==3]\n",
    "        gender_fluid = encoded_df_6789[encoded_df_6789['gender']==4]\n",
    "        other = encoded_df_6789[encoded_df_6789['gender']==5]\n",
    "        trans_male = encoded_df_6789[encoded_df_6789['gender']==6]\n",
    "        transgender = encoded_df_6789[encoded_df_6789['gender']==7]\n",
    "\n",
    "        df_male_resampled = resample(male, \n",
    "                                        replace=True,     \n",
    "                                        n_samples=samp,    \n",
    "                                        random_state=0) \n",
    "\n",
    "        df_female_resampled = resample(female, \n",
    "                                        replace=True,     \n",
    "                                        n_samples=samp,    \n",
    "                                        random_state=0) \n",
    "\n",
    "        df_nonbinary_resampled = resample(nonbinary, \n",
    "                                        replace=True,     \n",
    "                                        n_samples=samp,    \n",
    "                                        random_state=0) \n",
    "\n",
    "        df_tf_resampled = resample(trans_female, \n",
    "                                        replace=True,     \n",
    "                                        n_samples=samp,    \n",
    "                                        random_state=0) \n",
    "\n",
    "        df_gf_resampled = resample(gender_fluid, \n",
    "                                        replace=True,     \n",
    "                                        n_samples=samp,    \n",
    "                                        random_state=0) \n",
    "        \n",
    "        df_tm_resampled = resample(trans_male, \n",
    "                                        replace=True,     \n",
    "                                        n_samples=samp,    \n",
    "                                        random_state=0) \n",
    "        \n",
    "        df_t_resampled = resample(transgender, \n",
    "                                        replace=True,     \n",
    "                                        n_samples=samp,    \n",
    "                                        random_state=0) \n",
    "        \n",
    "        df_other_resampled = resample(other, \n",
    "                                        replace=True,     \n",
    "                                        n_samples=samp,    \n",
    "                                        random_state=0)\n",
    "\n",
    "        df_resampled = pd.concat([df_male_resampled, df_female_resampled, df_nonbinary_resampled, df_tf_resampled, df_gf_resampled, df_tm_resampled, df_t_resampled, df_other_resampled])\n",
    "\n",
    "        # Display new class counts\n",
    "        print(df_resampled[\"comfortable_discussing_with_supervisor\"].value_counts())\n",
    "\n",
    "        y_resampled = df_resampled.comfortable_discussing_with_supervisor\n",
    "        X_resampled = df_resampled.drop('comfortable_discussing_with_supervisor', axis=1)\n",
    "        X_train_r, X_test_r, y_train_r, y_test_r = train_test_split(X_resampled, y_resampled, test_size=0.2, random_state=0) \n",
    "\n",
    "\n",
    "        clf_3_r = RandomForestClassifier(criterion = 'gini', n_estimators = 200, random_state = 0)  \n",
    "        clf_3_r.fit(X_train_r, y_train_r)\n",
    "        sc = clf_3_r.score(X_test_r,y_test_r) \n",
    "        scores_rf.append(sc)\n",
    "        print(\"Accuracy with n_samples = %d: \" %(samp), sc)\n",
    "print(max(scores_rf))\n"
   ]
  },
  {
   "cell_type": "markdown",
   "metadata": {
    "cell_id": "00117-b05d4f29-f7ab-4d32-bd40-c6bb3e20bd44",
    "deepnote_cell_type": "markdown",
    "tags": []
   },
   "source": [
    "Resample to generate more data and balance representation across gender categories using sample size that achieved best score above, separate input features and target variable, run random forest classifier, show score"
   ]
  },
  {
   "cell_type": "code",
   "execution_count": 62,
   "metadata": {
    "cell_id": "00105-14a1cb6e-067f-4d2d-a072-f5d4d42af28b",
    "deepnote_cell_type": "code",
    "execution_millis": 392,
    "execution_start": 1607304301035,
    "output_cleared": false,
    "source_hash": "ffd99a0a",
    "tags": []
   },
   "outputs": [
    {
     "name": "stdout",
     "output_type": "stream",
     "text": [
      "1    290\n",
      "0    192\n",
      "2    118\n",
      "Name: comfortable_discussing_with_supervisor, dtype: int64\n"
     ]
    },
    {
     "data": {
      "text/plain": [
       "0.875"
      ]
     },
     "execution_count": 62,
     "metadata": {},
     "output_type": "execute_result"
    }
   ],
   "source": [
    "samp = 75\n",
    "\n",
    "male = encoded_df_6789[encoded_df_6789['gender']==0]\n",
    "female = encoded_df_6789[encoded_df_6789['gender']==1]\n",
    "nonbinary = encoded_df_6789[encoded_df_6789['gender']==2]\n",
    "trans_female = encoded_df_6789[encoded_df_6789['gender']==3]\n",
    "gender_fluid = encoded_df_6789[encoded_df_6789['gender']==4]\n",
    "other = encoded_df_6789[encoded_df_6789['gender']==5]\n",
    "trans_male = encoded_df_6789[encoded_df_6789['gender']==6]\n",
    "transgender = encoded_df_6789[encoded_df_6789['gender']==7]\n",
    "\n",
    "df_male_resampled = resample(male, \n",
    "                                replace=True,     \n",
    "                                n_samples=samp,    \n",
    "                                random_state=0) \n",
    "\n",
    "df_female_resampled = resample(female, \n",
    "                                replace=True,     \n",
    "                                n_samples=samp,    \n",
    "                                random_state=0) \n",
    "\n",
    "df_nonbinary_resampled = resample(nonbinary, \n",
    "                                replace=True,     \n",
    "                                n_samples=samp,    \n",
    "                                random_state=0) \n",
    "\n",
    "df_tf_resampled = resample(trans_female, \n",
    "                                replace=True,     \n",
    "                                n_samples=samp,    \n",
    "                                random_state=0) \n",
    "\n",
    "df_gf_resampled = resample(gender_fluid, \n",
    "                                replace=True,     \n",
    "                                n_samples=samp,    \n",
    "                                random_state=0) \n",
    "\n",
    "df_tm_resampled = resample(trans_male, \n",
    "                                replace=True,     \n",
    "                                n_samples=samp,    \n",
    "                                random_state=0) \n",
    "\n",
    "df_t_resampled = resample(transgender, \n",
    "                                replace=True,     \n",
    "                                n_samples=samp,    \n",
    "                                random_state=0) \n",
    "\n",
    "df_other_resampled = resample(other, \n",
    "                                replace=True,     \n",
    "                                n_samples=samp,    \n",
    "                                random_state=0)\n",
    "\n",
    "df_resampled = pd.concat([df_male_resampled, df_female_resampled, df_nonbinary_resampled, df_tf_resampled, df_gf_resampled, df_tm_resampled, df_t_resampled, df_other_resampled])\n",
    "\n",
    "# Display new class counts\n",
    "print(df_resampled[\"comfortable_discussing_with_supervisor\"].value_counts())\n",
    "\n",
    "y_resampled = df_resampled.comfortable_discussing_with_supervisor\n",
    "X_resampled = df_resampled.drop('comfortable_discussing_with_supervisor', axis=1)\n",
    "X_train_r, X_test_r, y_train_r, y_test_r = train_test_split(X_resampled, y_resampled, test_size=0.2, random_state=0) \n",
    "\n",
    "\n",
    "clf_3_r = RandomForestClassifier(criterion = 'gini', n_estimators = 200, random_state = 0)  \n",
    "clf_3_r.fit(X_train_r, y_train_r)\n",
    "sc = clf_3_r.score(X_test_r,y_test_r) \n",
    "preds = clf_3_r.predict(X_test_r)\n",
    "sc"
   ]
  },
  {
   "cell_type": "code",
   "execution_count": 63,
   "metadata": {
    "cell_id": "00105-7612b2ac-840a-4e99-bc7f-42a34c580585",
    "deepnote_cell_type": "code",
    "execution_millis": 22,
    "execution_start": 1607304312660,
    "output_cleared": false,
    "source_hash": "c3eec6c3",
    "tags": []
   },
   "outputs": [
    {
     "data": {
      "text/html": [
       "<div>\n",
       "<style scoped>\n",
       "    .dataframe tbody tr th:only-of-type {\n",
       "        vertical-align: middle;\n",
       "    }\n",
       "\n",
       "    .dataframe tbody tr th {\n",
       "        vertical-align: top;\n",
       "    }\n",
       "\n",
       "    .dataframe thead th {\n",
       "        text-align: right;\n",
       "    }\n",
       "</style>\n",
       "<table border=\"1\" class=\"dataframe\">\n",
       "  <thead>\n",
       "    <tr style=\"text-align: right;\">\n",
       "      <th></th>\n",
       "      <th>Gender Category</th>\n",
       "      <th>Correct</th>\n",
       "    </tr>\n",
       "  </thead>\n",
       "  <tbody>\n",
       "    <tr>\n",
       "      <td>0</td>\n",
       "      <td>Male</td>\n",
       "      <td>0.526316</td>\n",
       "    </tr>\n",
       "    <tr>\n",
       "      <td>1</td>\n",
       "      <td>Female</td>\n",
       "      <td>0.444444</td>\n",
       "    </tr>\n",
       "    <tr>\n",
       "      <td>2</td>\n",
       "      <td>Nonbinary</td>\n",
       "      <td>1.000000</td>\n",
       "    </tr>\n",
       "    <tr>\n",
       "      <td>3</td>\n",
       "      <td>Trans Female</td>\n",
       "      <td>1.000000</td>\n",
       "    </tr>\n",
       "    <tr>\n",
       "      <td>4</td>\n",
       "      <td>Gender Fluid</td>\n",
       "      <td>1.000000</td>\n",
       "    </tr>\n",
       "    <tr>\n",
       "      <td>5</td>\n",
       "      <td>Other</td>\n",
       "      <td>0.933333</td>\n",
       "    </tr>\n",
       "    <tr>\n",
       "      <td>6</td>\n",
       "      <td>Trans Male</td>\n",
       "      <td>1.000000</td>\n",
       "    </tr>\n",
       "    <tr>\n",
       "      <td>7</td>\n",
       "      <td>Transgender</td>\n",
       "      <td>1.000000</td>\n",
       "    </tr>\n",
       "  </tbody>\n",
       "</table>\n",
       "</div>"
      ],
      "text/plain": [
       "  Gender Category   Correct\n",
       "0            Male  0.526316\n",
       "1          Female  0.444444\n",
       "2       Nonbinary  1.000000\n",
       "3    Trans Female  1.000000\n",
       "4    Gender Fluid  1.000000\n",
       "5           Other  0.933333\n",
       "6      Trans Male  1.000000\n",
       "7     Transgender  1.000000"
      ]
     },
     "execution_count": 63,
     "metadata": {},
     "output_type": "execute_result"
    }
   ],
   "source": [
    "X_agg = X_test_r\n",
    "X_agg['correct'] = preds == y_test_r\n",
    "\n",
    "correct = X_agg[['gender', 'correct']].groupby('gender').mean()['correct'].tolist()\n",
    "\n",
    "dic_gender = {'Male':0, 'Female': 1, 'Nonbinary': 2, 'Trans Female': 3, 'Gender Fluid': 4, 'Other': 5, 'Trans Male': 6, 'Transgender':7}\n",
    "\n",
    "df_correct = pd.DataFrame({\"Gender Category\" : list(dic_gender.keys()), \"Correct\" : correct})\n",
    "df_correct"
   ]
  },
  {
   "cell_type": "markdown",
   "metadata": {},
   "source": [
    "#### Resample Data by Class"
   ]
  },
  {
   "cell_type": "markdown",
   "metadata": {
    "cell_id": "00094-fe54e203-1e23-499a-9b7c-c24f7b9f4d95",
    "deepnote_cell_type": "markdown",
    "tags": []
   },
   "source": [
    "Try different sample sizes for resampling the data by class"
   ]
  },
  {
   "cell_type": "code",
   "execution_count": 64,
   "metadata": {},
   "outputs": [
    {
     "data": {
      "text/plain": [
       "1    835\n",
       "2    703\n",
       "0    600\n",
       "Name: comfortable_discussing_with_supervisor, dtype: int64"
      ]
     },
     "execution_count": 64,
     "metadata": {},
     "output_type": "execute_result"
    }
   ],
   "source": [
    "encoded_df_6789['comfortable_discussing_with_supervisor'].value_counts()"
   ]
  },
  {
   "cell_type": "code",
   "execution_count": 65,
   "metadata": {
    "scrolled": true
   },
   "outputs": [
    {
     "name": "stdout",
     "output_type": "stream",
     "text": [
      "Accuracy with n_samples = 400:  0.775\n",
      "Accuracy with n_samples = 450:  0.7666666666666667\n",
      "Accuracy with n_samples = 500:  0.75\n",
      "Accuracy with n_samples = 600:  0.7833333333333333\n",
      "Accuracy with n_samples = 700:  0.8142857142857143\n",
      "Accuracy with n_samples = 800:  0.8520833333333333\n",
      "Accuracy with n_samples = 900:  0.8703703703703703\n",
      "0.8703703703703703\n"
     ]
    }
   ],
   "source": [
    "num_samples = [400, 450, 500,600,700,800, 900]\n",
    "scores_rf = []\n",
    "for samp in num_samples:\n",
    "        yes = encoded_df_6789[encoded_df_6789['comfortable_discussing_with_supervisor']==1]\n",
    "        maybe = encoded_df_6789[encoded_df_6789['comfortable_discussing_with_supervisor']==2]\n",
    "        no = encoded_df_6789[encoded_df_6789['comfortable_discussing_with_supervisor']==0]\n",
    "\n",
    "        df_yes_resampled = resample(yes, \n",
    "                                        replace=True,     \n",
    "                                        n_samples=samp,    \n",
    "                                        random_state=0) \n",
    "\n",
    "        df_maybe_resampled = resample(maybe, \n",
    "                                        replace=True,     \n",
    "                                        n_samples=samp,    \n",
    "                                        random_state=0) \n",
    "\n",
    "        df_no_resampled = resample(no, \n",
    "                                        replace=True,     \n",
    "                                        n_samples=samp,    \n",
    "                                        random_state=0) \n",
    "\n",
    "        df_resampled = pd.concat([df_yes_resampled, df_maybe_resampled, df_no_resampled])\n",
    "\n",
    "        # Display new class counts\n",
    "        df_resampled[\"comfortable_discussing_with_supervisor\"].value_counts()\n",
    "\n",
    "        y_resampled = df_resampled.comfortable_discussing_with_supervisor\n",
    "        X_resampled = df_resampled.drop('comfortable_discussing_with_supervisor', axis=1)\n",
    "        X_train_r, X_test_r, y_train_r, y_test_r = train_test_split(X_resampled, y_resampled, test_size=0.2, random_state=0) \n",
    "\n",
    "\n",
    "        clf_2_r = RandomForestClassifier(criterion = 'gini', n_estimators = 200, random_state = 0)  \n",
    "        clf_2_r.fit(X_train_r, y_train_r) \n",
    "        sc = clf_2_r.score(X_test_r,y_test_r) \n",
    "        scores_rf.append(sc)\n",
    "        print(\"Accuracy with n_samples = %d: \" %(samp), sc)\n",
    "print(max(scores_rf))\n"
   ]
  },
  {
   "cell_type": "markdown",
   "metadata": {
    "cell_id": "00070-868b8109-e838-4cbf-9001-fbea4dcb4914",
    "deepnote_cell_type": "markdown",
    "tags": []
   },
   "source": [
    "Conduct resampling to generate more data and balance the distribution across classes"
   ]
  },
  {
   "cell_type": "code",
   "execution_count": 66,
   "metadata": {
    "cell_id": "00079-a7e65cbb-064a-4b91-80fa-32ea8f026ff2",
    "deepnote_cell_type": "code",
    "execution_millis": 17,
    "execution_start": 1607297801811,
    "output_cleared": false,
    "source_hash": "6a779be",
    "tags": []
   },
   "outputs": [
    {
     "data": {
      "text/plain": [
       "1    900\n",
       "2    900\n",
       "0    900\n",
       "Name: comfortable_discussing_with_supervisor, dtype: int64"
      ]
     },
     "execution_count": 66,
     "metadata": {},
     "output_type": "execute_result"
    }
   ],
   "source": [
    "N = 900\n",
    "\n",
    "yes = encoded_df_6789[encoded_df_6789['comfortable_discussing_with_supervisor']==1]\n",
    "maybe = encoded_df_6789[encoded_df_6789['comfortable_discussing_with_supervisor']==2]\n",
    "no = encoded_df_6789[encoded_df_6789['comfortable_discussing_with_supervisor']==0]\n",
    " \n",
    "df_yes_resampled = resample(yes, \n",
    "                                 replace=True,     \n",
    "                                 n_samples=N,    \n",
    "                                 random_state=0) \n",
    "\n",
    "df_maybe_resampled = resample(maybe, \n",
    "                                 replace=True,     \n",
    "                                 n_samples=N,    \n",
    "                                 random_state=0) \n",
    " \n",
    "df_no_resampled = resample(no, \n",
    "                                 replace=True,     \n",
    "                                 n_samples=N,    \n",
    "                                 random_state=0) \n",
    " \n",
    "df_resampled = pd.concat([df_yes_resampled, df_maybe_resampled, df_no_resampled])\n",
    " \n",
    "# Display new class counts\n",
    "df_resampled[\"comfortable_discussing_with_supervisor\"].value_counts()"
   ]
  },
  {
   "cell_type": "markdown",
   "metadata": {
    "cell_id": "00080-f7461a04-1055-4f47-b884-6450574511f1",
    "deepnote_cell_type": "markdown",
    "tags": []
   },
   "source": [
    "Separate input features and target variable"
   ]
  },
  {
   "cell_type": "code",
   "execution_count": 67,
   "metadata": {
    "cell_id": "00081-9a140244-f4fd-48b1-8b40-e544807c5bbd",
    "deepnote_cell_type": "code",
    "execution_millis": 25,
    "execution_start": 1607298035528,
    "output_cleared": false,
    "source_hash": "8d250358",
    "tags": []
   },
   "outputs": [],
   "source": [
    "y_resampled = df_resampled.comfortable_discussing_with_supervisor\n",
    "X_resampled = df_resampled.drop('comfortable_discussing_with_supervisor', axis=1)\n",
    "X_train_r, X_test_r, y_train_r, y_test_r = train_test_split(X_resampled, y_resampled, test_size=0.2, random_state=0) \n"
   ]
  },
  {
   "cell_type": "markdown",
   "metadata": {
    "cell_id": "00082-72064517-5633-47a2-8618-41585381a749",
    "deepnote_cell_type": "markdown",
    "tags": []
   },
   "source": [
    "Conduct Logistic Regression With L1 Regularization on Resampled Data"
   ]
  },
  {
   "cell_type": "code",
   "execution_count": 68,
   "metadata": {
    "cell_id": "00080-29b628c6-4516-442b-88e1-c913c3ad899d",
    "deepnote_cell_type": "code",
    "execution_millis": 1,
    "execution_start": 1607298418054,
    "output_cleared": false,
    "source_hash": "fe8ff60d",
    "tags": []
   },
   "outputs": [
    {
     "name": "stdout",
     "output_type": "stream",
     "text": [
      "Test Data Overall Accuracy (L1 Regularization With Strength 0.001 ): 0.6055555555555555\n"
     ]
    }
   ],
   "source": [
    "strength_L1 = 0.001\n",
    "lr_1_r = LogisticRegression(C=1/strength_L1, solver=\"liblinear\", multi_class=\"ovr\", penalty=\"l1\", tol=0.015)\n",
    "lr_1_r.fit(X_train_r, y_train_r)\n",
    "preds_r = lr_1_r.predict(X_test_r)\n",
    "\n",
    "print(\"Test Data Overall Accuracy (L1 Regularization With Strength\", strength_L1, \"):\", lr_1_r.score(X_test_r, y_test_r))"
   ]
  },
  {
   "cell_type": "markdown",
   "metadata": {
    "cell_id": "00085-3fd99f7d-57cf-442d-a855-1543ff6d99a6",
    "deepnote_cell_type": "markdown",
    "tags": []
   },
   "source": [
    "Conduct Logistic Regression With L2 Regularization on Resampled Data"
   ]
  },
  {
   "cell_type": "code",
   "execution_count": 69,
   "metadata": {
    "cell_id": "00081-7bf1cc1e-ab4b-403d-9697-549023ad65b5",
    "deepnote_cell_type": "code",
    "execution_millis": 429,
    "execution_start": 1607298157638,
    "output_cleared": false,
    "source_hash": "4714ccd2",
    "tags": []
   },
   "outputs": [
    {
     "name": "stdout",
     "output_type": "stream",
     "text": [
      "Test Data Overall Accuracy (L2 Regularization): 0.3111111111111111\n"
     ]
    }
   ],
   "source": [
    "strength_L2 = 0.5\n",
    "lr_2_r = LogisticRegression(C=1/strength_L2, random_state=0, tol=0.015)\n",
    "lr_2_r.fit(X_train_r, y_train_r)\n",
    "preds_r = lr_2_r.predict(X_test_r)\n",
    "\n",
    "print(\"Test Data Overall Accuracy (L2 Regularization):\", lr_2_r.score(X_test_r, y_test_r))\n"
   ]
  },
  {
   "cell_type": "markdown",
   "metadata": {
    "cell_id": "00088-b7981415-3cc8-4fb5-872e-4d5f02a9070a",
    "deepnote_cell_type": "markdown",
    "tags": []
   },
   "source": [
    "Build Decision Tree Classifier on the Resampled Data"
   ]
  },
  {
   "cell_type": "code",
   "execution_count": 70,
   "metadata": {
    "cell_id": "00083-7ef0eb54-a043-4ba8-aba6-15f6a3fc6e45",
    "deepnote_cell_type": "code",
    "execution_millis": 15,
    "execution_start": 1607298294717,
    "output_cleared": false,
    "source_hash": "a2541256",
    "tags": []
   },
   "outputs": [
    {
     "name": "stdout",
     "output_type": "stream",
     "text": [
      "Accuracy: 0.6166666666666667\n"
     ]
    }
   ],
   "source": [
    "dtc_3_r = DecisionTreeClassifier(criterion='gini', min_samples_leaf= 15, min_samples_split=15, max_depth = 10, random_state=0)\n",
    "dtc_3_r.fit(X_train_r, y_train_r)\n",
    "print ('Accuracy:', dtc_3_r.score(X_test_r, y_test_r))"
   ]
  },
  {
   "cell_type": "markdown",
   "metadata": {
    "cell_id": "00091-068db5a0-3393-43d8-8200-22a0ae2c8cc7",
    "deepnote_cell_type": "markdown",
    "tags": []
   },
   "source": [
    "Build Random Forest Classifier on the Resampled Data"
   ]
  },
  {
   "cell_type": "code",
   "execution_count": 71,
   "metadata": {
    "cell_id": "00084-532584ad-d34e-4f1b-9a54-300797444358",
    "deepnote_cell_type": "code",
    "execution_millis": 329,
    "execution_start": 1607298379133,
    "output_cleared": false,
    "source_hash": "a7a69f2d",
    "tags": []
   },
   "outputs": [
    {
     "data": {
      "text/plain": [
       "0.8592592592592593"
      ]
     },
     "execution_count": 71,
     "metadata": {},
     "output_type": "execute_result"
    }
   ],
   "source": [
    "\n",
    "clf_2_r = RandomForestClassifier(n_estimators=100, criterion = 'gini', random_state=0)  \n",
    "clf_2_r.fit(X_train_r, y_train_r) \n",
    "clf_2_r.score(X_test_r,y_test_r) "
   ]
  },
  {
   "cell_type": "markdown",
   "metadata": {
    "cell_id": "00092-f60560f3-8133-4713-bbbe-aeabfe9b9d8b",
    "deepnote_cell_type": "markdown",
    "tags": []
   },
   "source": [
    "Show Feature Importances for Random Forest Classifier for Resampled Data"
   ]
  },
  {
   "cell_type": "code",
   "execution_count": 72,
   "metadata": {
    "cell_id": "00086-29511d94-ea8d-4dc5-b618-e7200bee3420",
    "deepnote_cell_type": "code",
    "execution_millis": 893,
    "execution_start": 1607298980973,
    "output_cleared": false,
    "source_hash": "250c778c",
    "tags": []
   },
   "outputs": [
    {
     "data": {
      "image/png": "[encoded data removed]",
      "text/plain": [
       "<Figure size 1152x576 with 1 Axes>"
      ]
     },
     "metadata": {
      "needs_background": "light"
     },
     "output_type": "display_data"
    }
   ],
   "source": [
    "feat_impt_r = list(clf_2_r.feature_importances_)\n",
    "\n",
    "y_df_r = pd.DataFrame({\"Feature\":X_train_r.columns,\"Importance\":feat_impt_r})\n",
    "y_sort_df_r = y_df_r.sort_values(\"Importance\")\n",
    "dim = (16,8)\n",
    "fig_2_r = plt.figure(figsize=dim)\n",
    "ax2_r = fig_2_r.add_subplot(111)\n",
    "\n",
    "y_sort_df_r.plot(kind='barh',ax=ax2_r,x=\"Feature\",y=\"Importance\")\n",
    "\n",
    "ax2_r.set_title(\"Willingess to Discuss with Supervisor: Feature Importance\")\n",
    "ax2_r.set_ylabel(\"Feature\")\n",
    "ax2_r.set_xlabel(\"Importance\")\n",
    "\n",
    "plt.show()"
   ]
  },
  {
   "cell_type": "markdown",
   "metadata": {
    "cell_id": "00093-95a489d7-2700-4eef-9655-bbce4462e30b",
    "deepnote_cell_type": "markdown",
    "tags": []
   },
   "source": [
    "Run GridSearchCV on random forest classifier for resampled data to detemine best parameters and best score"
   ]
  },
  {
   "cell_type": "code",
   "execution_count": 73,
   "metadata": {
    "cell_id": "00086-dd9f024e-52a8-42a8-b933-623217293776",
    "deepnote_cell_type": "code",
    "execution_millis": 172876,
    "execution_start": 1607298494935,
    "output_cleared": false,
    "source_hash": "3dcdf278",
    "tags": []
   },
   "outputs": [
    {
     "name": "stdout",
     "output_type": "stream",
     "text": [
      "0.8217592592592593\n"
     ]
    }
   ],
   "source": [
    "parameters = {'criterion': [\"gini\", \"entropy\"], \n",
    "              'n_estimators':[20, 30, 40, 50, 100, 150, 200],\n",
    "              'max_features' : [\"auto\", \"sqrt\", \"log2\"],\n",
    "              'min_samples_split' : [2, 3, 4],\n",
    "              'random_state': [0]}\n",
    "              \n",
    "grid_search_r = GridSearchCV(clf_2_r, parameters, cv = 5)\n",
    "grid_search_r.fit(X_train_r, y_train_r)\n",
    "scores_r = grid_search_r.cv_results_['mean_test_score']\n",
    "print(max(scores_r))"
   ]
  },
  {
   "cell_type": "markdown",
   "metadata": {},
   "source": [
    "Get the best parameters for random forest classifier with data resampled by class"
   ]
  },
  {
   "cell_type": "code",
   "execution_count": 74,
   "metadata": {
    "cell_id": "00086-3c1d8f84-c2a4-4545-a79b-dd1d2e3d7a30",
    "deepnote_cell_type": "code",
    "execution_millis": 6,
    "execution_start": 1607298953138,
    "output_cleared": false,
    "source_hash": "c6d4a06",
    "tags": []
   },
   "outputs": [
    {
     "name": "stdout",
     "output_type": "stream",
     "text": [
      "{'criterion': 'entropy', 'max_features': 'log2', 'min_samples_split': 4, 'n_estimators': 100, 'random_state': 0}\n"
     ]
    }
   ],
   "source": [
    "resampled_best_params = grid_search_r.best_params_\n",
    "print(resampled_best_params)"
   ]
  },
  {
   "cell_type": "markdown",
   "metadata": {},
   "source": [
    "Run Random Forest Classifier using best parameters"
   ]
  },
  {
   "cell_type": "code",
   "execution_count": 75,
   "metadata": {},
   "outputs": [
    {
     "data": {
      "text/plain": [
       "0.8444444444444444"
      ]
     },
     "execution_count": 75,
     "metadata": {},
     "output_type": "execute_result"
    }
   ],
   "source": [
    "clf_2_r = RandomForestClassifier(n_estimators=100, criterion = 'entropy', min_samples_split = 4, random_state=0, max_features = 'log2')  \n",
    "clf_2_r.fit(X_train_r, y_train_r) \n",
    "clf_2_r.score(X_test_r,y_test_r) "
   ]
  },
  {
   "cell_type": "markdown",
   "metadata": {},
   "source": [
    "Our Random Forest Classifier has improved drastically with the resampling process to approximately 84.4%. Let's take a look at just 2017-2019 data to see the differing set of features/survey questions will allow us to achieve an even higher accuracy score. "
   ]
  }
 ],
 "metadata": {
  "deepnote_execution_queue": [],
  "deepnote_notebook_id": "f76bccaf-895d-4eaa-bbee-433a30ee9b7d",
  "kernelspec": {
   "display_name": "Python 3",
   "language": "python",
   "name": "python3"
  },
  "language_info": {
   "codemirror_mode": {
    "name": "ipython",
    "version": 3
   },
   "file_extension": ".py",
   "mimetype": "text/x-python",
   "name": "python",
   "nbconvert_exporter": "python",
   "pygments_lexer": "ipython3",
   "version": "3.7.4"
  }
 },
 "nbformat": 4,
 "nbformat_minor": 2
}
